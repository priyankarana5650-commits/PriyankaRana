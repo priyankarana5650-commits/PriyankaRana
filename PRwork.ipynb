{
  "nbformat": 4,
  "nbformat_minor": 0,
  "metadata": {
    "colab": {
      "provenance": [],
      "authorship_tag": "ABX9TyM7EZLF4o3TGT7hJZroaGwY",
      "include_colab_link": true
    },
    "kernelspec": {
      "name": "python3",
      "display_name": "Python 3"
    },
    "language_info": {
      "name": "python"
    }
  },
  "cells": [
    {
      "cell_type": "markdown",
      "metadata": {
        "id": "view-in-github",
        "colab_type": "text"
      },
      "source": [
        "<a href=\"https://colab.research.google.com/github/priyankarana5650-commits/PriyankaRana/blob/main/PRwork.ipynb\" target=\"_parent\"><img src=\"https://colab.research.google.com/assets/colab-badge.svg\" alt=\"Open In Colab\"/></a>"
      ]
    },
    {
      "cell_type": "code",
      "execution_count": null,
      "metadata": {
        "colab": {
          "base_uri": "https://localhost:8080/"
        },
        "id": "jItyTQ-L1YZW",
        "outputId": "62f963bd-87b8-42c0-b881-3b231963a5ed"
      },
      "outputs": [
        {
          "output_type": "stream",
          "name": "stdout",
          "text": [
            "enter principal5000\n",
            "enter rate8\n",
            "enter months9\n",
            "simple Interest 300.0\n"
          ]
        }
      ],
      "source": [
        "p=int(input(\"enter principal\"))\n",
        "r=int(input(\"enter rate\"))\n",
        "months=int(input(\"enter months\"))\n",
        "t=months/12\n",
        "si=(p*r*t)/100\n",
        "print(\"simple Interest\",si)\n"
      ]
    },
    {
      "cell_type": "code",
      "source": [
        "time=int(input(\"enter month time\"))\n",
        "days=int(input(\"enterdays :\"))\n",
        "month=input(\"enter month:\")\n",
        "if months==\"jan\"  or month==\"march\"   or month==\"may\" or month==\"july\" or month==\"august\" or month==\"october\" or month==\"december\":\n",
        "  days_in_month=31\n",
        "elif months==\"apr\" or month==\"june\" or month==\"sep\" or month==\"november\":\n",
        "  days_in_month=30\n",
        "else:\n",
        "  days_in_month=28\n",
        "print(days_in_month)\n",
        "\n",
        "P=int(input(\"enter pricipal amt :\"))\n",
        "rate=int(input(\"enter rate \"))\n",
        "time_in_months=days/days_in_month\n",
        "interest_of_days=P*rate*time_in_months/100\n",
        "interest_of_month=P*rate*time/100\n",
        "total_interest=interest_of_days+interest_of_month\n",
        "print(\"Interest_of_month\",interest_of_month)\n",
        "print(\"Interest_of_days\",interest_of_days)\n",
        "print(\"Total Interest\",total_interest)\n",
        "\n",
        "\n",
        "\n",
        "\n"
      ],
      "metadata": {
        "id": "ADTqf_7GxbbR",
        "outputId": "64800663-7ea2-4f11-8a50-388d9cc58ead",
        "colab": {
          "base_uri": "https://localhost:8080/"
        }
      },
      "execution_count": null,
      "outputs": [
        {
          "output_type": "stream",
          "name": "stdout",
          "text": [
            "enter month time5\n",
            "enterdays :20\n",
            "enter month:may\n",
            "31\n",
            "enter pricipal amt :5000\n",
            "enter rate 10\n",
            "Interest_of_month 2500.0\n",
            "Interest_of_days 322.5806451612903\n",
            "Total Interest 2822.5806451612902\n"
          ]
        }
      ]
    },
    {
      "cell_type": "code",
      "source": [
        "#year=365\n",
        "#leap year=366 once in a year\n",
        "1996\n",
        "2000\n",
        "2004\n",
        "2008\n",
        "2012\n",
        "2016\n",
        "2020\n",
        "2024\n",
        "#condition for leap year: 2000%400==0 and 2000%100==0\n",
        "year=int(input(\"enter year\"))\n",
        "if (year%400==0) and (year%100==0):\n",
        "  print(year,\"leap year\")\n",
        "elif(year%4==0)and (year%100 !=0):\n",
        "  print(year,\"leap year\")\n",
        "else:\n",
        "  print(\"not a leap year\")\n"
      ],
      "metadata": {
        "id": "c66MYMDTB1WK",
        "outputId": "2e41de83-b790-4e55-b152-5a4e389104e8",
        "colab": {
          "base_uri": "https://localhost:8080/"
        }
      },
      "execution_count": null,
      "outputs": [
        {
          "output_type": "stream",
          "name": "stdout",
          "text": [
            "enter year2025\n",
            "not a leap year\n"
          ]
        }
      ]
    },
    {
      "cell_type": "code",
      "source": [
        "year=int(input(\"enter the year\"))\n",
        "if(year % 100==0 and year% 400==0):\n",
        "  print(\"leap year\")\n",
        "elif(year % 4==0 and year % 100 !=0):\n",
        "  print(\"leap year\")\n",
        "else:\n",
        "    print(\"not a leap year\")\n"
      ],
      "metadata": {
        "id": "umzdrLhOHCh8",
        "outputId": "52ad6682-9d72-4a3d-914c-489076681b7e",
        "colab": {
          "base_uri": "https://localhost:8080/"
        }
      },
      "execution_count": 17,
      "outputs": [
        {
          "output_type": "stream",
          "name": "stdout",
          "text": [
            "enter the year2024\n",
            "leap year\n"
          ]
        }
      ]
    },
    {
      "cell_type": "code",
      "source": [
        "p=int(input(\"enter principal\"))\n",
        "r=int(input(\"enter rate\"))\n",
        "months=int(input(\"entermonths \"))\n",
        "t=months/12\n",
        "si=(p*r*t)/100\n",
        "print(\"simple interest\",si)\n"
      ],
      "metadata": {
        "colab": {
          "base_uri": "https://localhost:8080/"
        },
        "id": "jvYW9vyvOLaK",
        "outputId": "f01beccf-9907-4457-a951-afe94763c1f5"
      },
      "execution_count": null,
      "outputs": [
        {
          "output_type": "stream",
          "name": "stdout",
          "text": [
            "enter principal9500\n",
            "enter rate10\n",
            "entermonths 15\n",
            "simple interest 1187.5\n"
          ]
        }
      ]
    },
    {
      "cell_type": "code",
      "source": [
        "p=int(input(\"enter principal \"))\n",
        "r=float(input(\"enter rate\"))\n",
        "year=int(input(\"enter years\"))\n",
        "months=int(input(\"enter months\"))\n",
        "t=year+(months/12)\n",
        "\n",
        "si=(p*r*t)/100\n",
        "print(\"simple interest\",si)"
      ],
      "metadata": {
        "colab": {
          "base_uri": "https://localhost:8080/"
        },
        "id": "X9p6y-AbOz1h",
        "outputId": "091b80ed-6b40-45ba-bdc0-2357e7ea13d6"
      },
      "execution_count": null,
      "outputs": [
        {
          "output_type": "stream",
          "name": "stdout",
          "text": [
            "enter principal 12000\n",
            "enter rate7.5\n",
            "enter years2\n",
            "enter months3\n",
            "simple interest 2025.0\n"
          ]
        }
      ]
    },
    {
      "cell_type": "code",
      "source": [
        "p=int(input(\"enter principal\"))\n",
        "r=int(input(\"enter rate\"))\n",
        "t=int(input(\"time\"))\n",
        "a=p*(1+r/100)**t\n",
        "ci=a-p\n",
        "print(\"compound interest\",ci)"
      ],
      "metadata": {
        "colab": {
          "base_uri": "https://localhost:8080/"
        },
        "id": "TzOW6JuQRSPW",
        "outputId": "c2fe2e0d-ea37-47e8-c56c-2bd57b8257b9"
      },
      "execution_count": null,
      "outputs": [
        {
          "output_type": "stream",
          "name": "stdout",
          "text": [
            "enter principal5000\n",
            "enter rate5\n",
            "time2\n",
            "compound interest 512.5\n"
          ]
        }
      ]
    },
    {
      "cell_type": "code",
      "source": [
        "p=int(input(\"enter principal\"))\n",
        "r=int(input(\"enter rate\"))\n",
        "t=int(input(\"enter time\"))\n",
        "a=p*(1+r/100)**t\n",
        "ci=a-p\n",
        "print(\"compound interest\",ci)\n"
      ],
      "metadata": {
        "colab": {
          "base_uri": "https://localhost:8080/"
        },
        "id": "35cisvMBSRVD",
        "outputId": "3edfb542-8ef7-4fa1-8619-d8c24646fc2f"
      },
      "execution_count": null,
      "outputs": [
        {
          "output_type": "stream",
          "name": "stdout",
          "text": [
            "enter principal10000\n",
            "enter rate8\n",
            "enter time3\n",
            "compound interest 2597.120000000001\n"
          ]
        }
      ]
    }
  ]
}
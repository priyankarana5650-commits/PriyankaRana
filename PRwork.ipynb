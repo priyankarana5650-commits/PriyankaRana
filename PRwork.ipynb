{
  "nbformat": 4,
  "nbformat_minor": 0,
  "metadata": {
    "colab": {
      "provenance": [],
      "authorship_tag": "ABX9TyMRj0iW5FUjQs9wxY5pouCw",
      "include_colab_link": true
    },
    "kernelspec": {
      "name": "python3",
      "display_name": "Python 3"
    },
    "language_info": {
      "name": "python"
    }
  },
  "cells": [
    {
      "cell_type": "markdown",
      "metadata": {
        "id": "view-in-github",
        "colab_type": "text"
      },
      "source": [
        "<a href=\"https://colab.research.google.com/github/priyankarana5650-commits/PriyankaRana/blob/main/PRwork.ipynb\" target=\"_parent\"><img src=\"https://colab.research.google.com/assets/colab-badge.svg\" alt=\"Open In Colab\"/></a>"
      ]
    },
    {
      "cell_type": "code",
      "source": [
        "#loops\n",
        "#while loop & foe loop\n",
        "i=1\n",
        "while i<=5:\n",
        "  print(\"priya\")\n",
        "  i=i+1\n",
        "\n",
        "print(i)"
      ],
      "metadata": {
        "colab": {
          "base_uri": "https://localhost:8080/"
        },
        "id": "Z8lA-3C8iuYf",
        "outputId": "79ac46ef-4a99-4371-b1e4-62dcf509da81"
      },
      "execution_count": 5,
      "outputs": [
        {
          "output_type": "stream",
          "name": "stdout",
          "text": [
            "priya\n",
            "priya\n",
            "priya\n",
            "priya\n",
            "priya\n",
            "6\n"
          ]
        }
      ]
    },
    {
      "cell_type": "code",
      "source": [
        "i=1\n",
        "while i <=5:\n",
        "  print(i)\n",
        "  i=i+1"
      ],
      "metadata": {
        "colab": {
          "base_uri": "https://localhost:8080/"
        },
        "id": "JXwwBsOzmdbg",
        "outputId": "1e727f61-b917-4933-892f-c79373395d72"
      },
      "execution_count": null,
      "outputs": [
        {
          "output_type": "stream",
          "name": "stdout",
          "text": [
            "1\n",
            "2\n",
            "3\n",
            "4\n",
            "5\n"
          ]
        }
      ]
    },
    {
      "cell_type": "code",
      "source": [
        "i=5\n",
        "while i>=1:\n",
        "  print(i)\n",
        "  i-=1"
      ],
      "metadata": {
        "colab": {
          "base_uri": "https://localhost:8080/"
        },
        "id": "isAAEXmtnJfT",
        "outputId": "e532e0af-caae-4abf-9944-f1f487370b4e"
      },
      "execution_count": null,
      "outputs": [
        {
          "output_type": "stream",
          "name": "stdout",
          "text": [
            "5\n",
            "4\n",
            "3\n",
            "2\n",
            "1\n"
          ]
        }
      ]
    },
    {
      "cell_type": "code",
      "source": [
        "#while loop\n",
        "i=1\n",
        "n=int(input(\"enter number\"))\n",
        "while i <=10:\n",
        "  print(n*i)\n",
        "  i=i+1\n",
        "\n",
        "\n"
      ],
      "metadata": {
        "colab": {
          "base_uri": "https://localhost:8080/"
        },
        "id": "BFA4JyRux7VS",
        "outputId": "6d1e28ee-bc1d-4432-e0a1-77a62092d6e8"
      },
      "execution_count": null,
      "outputs": [
        {
          "output_type": "stream",
          "name": "stdout",
          "text": [
            "enter number15\n",
            "15\n",
            "30\n",
            "45\n",
            "60\n",
            "75\n",
            "90\n",
            "105\n",
            "120\n",
            "135\n",
            "150\n"
          ]
        }
      ]
    },
    {
      "cell_type": "code",
      "source": [
        "# factorial of any number\n",
        "n=int(input(\"enter a number\"))\n",
        "fact=1\n",
        "for i in range(1,n+1):\n",
        "  fact=fact*i\n",
        "  print(fact)"
      ],
      "metadata": {
        "id": "FzSibgTj-8Vx",
        "outputId": "e14362d5-d34b-4b03-d97c-806ca284d03e",
        "colab": {
          "base_uri": "https://localhost:8080/"
        }
      },
      "execution_count": 12,
      "outputs": [
        {
          "output_type": "stream",
          "name": "stdout",
          "text": [
            "enter a number5\n",
            "1\n",
            "2\n",
            "6\n",
            "24\n",
            "120\n"
          ]
        }
      ]
    },
    {
      "cell_type": "code",
      "source": [
        "#enter marks of subjects# for loop\n",
        "total=0\n",
        "subjects=int(input(\"enter subjects:\"))\n",
        "for i in range (subjects):\n",
        "  marks=int(input(\"enter marks for subjects:\"))\n",
        "  total=total+marks\n",
        "  print(\" total marks=\",total)\n"
      ],
      "metadata": {
        "id": "ZQM7GN95Ag1N",
        "outputId": "39cb74b6-9ae2-4dc1-bccf-2e57ff43cf2a",
        "colab": {
          "base_uri": "https://localhost:8080/"
        }
      },
      "execution_count": 14,
      "outputs": [
        {
          "output_type": "stream",
          "name": "stdout",
          "text": [
            "enter subjects:2\n",
            "enter marks for subjects:50\n",
            " total marks= 50\n",
            "enter marks for subjects:70\n",
            " total marks= 120\n"
          ]
        }
      ]
    },
    {
      "cell_type": "code",
      "source": [
        "#break & continue\n",
        "sum=0\n",
        "for i in range (1,6):\n",
        "  if i ==3:\n",
        "    continue\n",
        "  if i ==5:\n",
        "    break\n",
        "  print(i)"
      ],
      "metadata": {
        "id": "N_JD63CdCBDT",
        "outputId": "fcfa4199-8d1d-40ef-bac5-50674897dbf6",
        "colab": {
          "base_uri": "https://localhost:8080/"
        }
      },
      "execution_count": 16,
      "outputs": [
        {
          "output_type": "stream",
          "name": "stdout",
          "text": [
            "1\n",
            "2\n",
            "4\n"
          ]
        }
      ]
    },
    {
      "cell_type": "code",
      "source": [
        "#odd\n",
        "n=int(input(\"enter number: \"))\n",
        "for i in range(1,n+1):\n",
        "  if i % 2!= 0:\n",
        "    print(i)\n",
        "#even\n",
        "n=int(input(\"enter number: \"))\n",
        "for i in range(1,n+1):\n",
        "  if i % 2== 0:\n",
        "    print(i)"
      ],
      "metadata": {
        "id": "fsSwvgmiCeyJ",
        "outputId": "307e7fb6-7944-470d-c27d-d4d521075305",
        "colab": {
          "base_uri": "https://localhost:8080/"
        }
      },
      "execution_count": 21,
      "outputs": [
        {
          "output_type": "stream",
          "name": "stdout",
          "text": [
            "enter number: 10\n",
            "1\n",
            "3\n",
            "5\n",
            "7\n",
            "9\n",
            "enter number: 10\n",
            "2\n",
            "4\n",
            "6\n",
            "8\n",
            "10\n"
          ]
        }
      ]
    },
    {
      "cell_type": "code",
      "source": [
        "fruits=[\"apple\",\"banana\",\"cherry\"]\n",
        "for fruits in fruits:\n",
        "  print(fruits)"
      ],
      "metadata": {
        "id": "N-Q_NWLODxes",
        "outputId": "9c6e46e6-acf1-477b-b2bf-b3c08195c07f",
        "colab": {
          "base_uri": "https://localhost:8080/"
        }
      },
      "execution_count": 22,
      "outputs": [
        {
          "output_type": "stream",
          "name": "stdout",
          "text": [
            "apple\n",
            "banana\n",
            "cherry\n"
          ]
        }
      ]
    },
    {
      "cell_type": "code",
      "source": [
        "#traffic lights\n",
        "light = input(\"Enter the light color (green, yellow, or red): \") # Added input for light color\n",
        "\n",
        "if light==\"green\":\n",
        "  print(\"go\")\n",
        "elif light==\"yellow\":\n",
        "   print(\"slow down\")\n",
        "elif light==\"red\":\n",
        "  print(\"stop\")\n",
        "else:\n",
        "  print(\"invalid light\")"
      ],
      "metadata": {
        "colab": {
          "base_uri": "https://localhost:8080/"
        },
        "id": "nKEZYxJmi2Ff",
        "outputId": "79447142-9c09-48b0-d083-5251e267af00"
      },
      "execution_count": null,
      "outputs": [
        {
          "output_type": "stream",
          "name": "stdout",
          "text": [
            "Enter the light color (green, yellow, or red): green\n",
            "go\n"
          ]
        }
      ]
    },
    {
      "cell_type": "code",
      "source": [
        "marks=int(input(\"enter marks\"))\n",
        "if (marks>=90):\n",
        "  print(\"A\")\n",
        "elif(marks>=80 and marks<90):\n",
        "  print(\"B\")\n",
        "elif(marks>=70 and marks <80):\n",
        "  print(\"C\")\n",
        "else:\n",
        "  print(\"D\")"
      ],
      "metadata": {
        "colab": {
          "base_uri": "https://localhost:8080/"
        },
        "id": "zBoJe51mb0-d",
        "outputId": "b257af24-51bb-40e1-c0c3-658fe00b8cb8"
      },
      "execution_count": null,
      "outputs": [
        {
          "output_type": "stream",
          "name": "stdout",
          "text": [
            "enter marks85\n",
            "B\n"
          ]
        }
      ]
    },
    {
      "cell_type": "code",
      "source": [
        "#nesting\n",
        "age=int(input(\"enter age\"))\n",
        "if (age>= 18):\n",
        "  if (age>=80):\n",
        "    print(\"age excced\")\n",
        "  else:\n",
        "    print(\"can drive\")\n",
        "else:\n",
        "  print(\"cannot drive\")\n",
        "\n",
        "\n"
      ],
      "metadata": {
        "colab": {
          "base_uri": "https://localhost:8080/"
        },
        "id": "C3obedPGj9JH",
        "outputId": "78a7ec2c-c058-4b0a-b24a-72779f925bad"
      },
      "execution_count": null,
      "outputs": [
        {
          "output_type": "stream",
          "name": "stdout",
          "text": [
            "enter age82\n",
            "age excced\n"
          ]
        }
      ]
    },
    {
      "cell_type": "code",
      "execution_count": null,
      "metadata": {
        "colab": {
          "base_uri": "https://localhost:8080/"
        },
        "id": "jItyTQ-L1YZW",
        "outputId": "62f963bd-87b8-42c0-b881-3b231963a5ed"
      },
      "outputs": [
        {
          "output_type": "stream",
          "name": "stdout",
          "text": [
            "enter principal5000\n",
            "enter rate8\n",
            "enter months9\n",
            "simple Interest 300.0\n"
          ]
        }
      ],
      "source": [
        "p=int(input(\"enter principal\"))\n",
        "r=int(input(\"enter rate\"))\n",
        "months=int(input(\"enter months\"))\n",
        "t=months/12\n",
        "si=(p*r*t)/100\n",
        "print(\"simple Interest\",si)\n"
      ]
    },
    {
      "cell_type": "code",
      "source": [
        "light=input(\"Enter which light is Green(north/south/east/west)\")\n",
        "if light==\"south\":\n",
        "  print(\"west outgoing road  : running\")\n",
        "  print(\"north outgoing road : running\")\n",
        "  print(\"east outgoing road  :running\")\n",
        "  print(\"south outgoing road : runing\")\n",
        "  print(\" west incoming      :stop\")\n",
        "  print(\"north incoming      :stop\")\n",
        "  print(\"east incoming       :stop\")\n",
        "elif light==\"west\":\n",
        "  print(\"north outgoing road : running\")\n",
        "  print(\"east outgoing road  : running\")\n",
        "  print(\"south outgoing road :running\")\n",
        "  print(\"west outgoing road  :running\")\n",
        "  print(\"north incoming      :stop\")\n",
        "  print(\"east incoming       :stop\")\n",
        "  print(\"south incoming      :stop\")\n",
        "elif light==\"north\":\n",
        "  print(\"east outgoing       :running\")\n",
        "  print(\"south outgoing      :running\")\n",
        "  print(\"west outgoing       :running\")\n",
        "  print(\"north outgoing      :running\")\n",
        "  print(\"east incoming       :stop\")\n",
        "  print(\"south incoming      :stop\")\n",
        "  print(\"west incoming       :stop\")\n",
        "elif light==\"east\":\n",
        "  print(\"south outgoing      :running\")\n",
        "  print(\"west outgoing       :running\")\n",
        "  print(\"north outgoing      :running\")\n",
        "  print(\"east outgoing       :running\")\n",
        "  print(\"south incoming      :stop\")\n",
        "  print(\"west incoming       :stop\")\n",
        "  print(\"north incoming      :stop\")\n",
        "else:\n",
        "  print(\"invalid direction\")\n"
      ],
      "metadata": {
        "id": "_cjhkruxR-Qi",
        "outputId": "97752c0d-dec5-4ef5-a3c3-22f0fed1a911",
        "colab": {
          "base_uri": "https://localhost:8080/"
        }
      },
      "execution_count": null,
      "outputs": [
        {
          "output_type": "stream",
          "name": "stdout",
          "text": [
            "Enter which light is Green(north/south/east/west)south\n",
            "west outgoing road  : running\n",
            "north outgoing road : running\n",
            "east outgoing road  :running\n",
            "south outgoing road : runing\n",
            " west incoming      :stop\n",
            "north incoming      :stop\n",
            "east incoming       :stop\n"
          ]
        }
      ]
    },
    {
      "cell_type": "code",
      "source": [
        "time= int(input(\"enter month time\"))\n",
        "month=input(\"enter month :\")\n",
        "days=int(input(\"days\"))\n",
        "year=int(input(\"enter year\"))\n",
        "if month==\"jan\" or month==\"may\" or month==\"july\" or month==\"august\" or month==\"october\" or month==\"december\":\n",
        "  days_in_month=31\n",
        "elif month==\"apr\"or month==\"june\" or month==\"september\" or month==\"nov\":\n",
        "  days_in_month=30\n",
        "else:\n",
        "  if year % 4 ==0 and year % 100!= 0 or year % 400==0:\n",
        "    days_in_month=29\n",
        "  else:\n",
        "    days_in_month=28\n",
        "print(\"days in month\",days_in_month)\n",
        "print(days/days_in_month)\n",
        "principle=int(input(\"principle\"))\n",
        "rate=int(input(\"rate\"))\n",
        "time_in_month=days/days_in_month\n",
        "interest_of_days=principle*rate*time_in_month/100\n",
        "interest_of_month=principle*rate*time/100\n",
        "total_interest= interest_of_days+interest_of_month\n",
        "print(\"total interest\",total_interest)\n",
        "print(interest_of_days)\n",
        "#with leap year"
      ],
      "metadata": {
        "id": "A9K3LJB0tLor"
      },
      "execution_count": null,
      "outputs": []
    },
    {
      "cell_type": "code",
      "source": [
        "time=int(input(\"enter month time\"))\n",
        "days=int(input(\"enterdays :\"))\n",
        "month=input(\"enter month:\")\n",
        "if months==\"jan\"  or month==\"march\"   or month==\"may\" or month==\"july\" or month==\"august\" or month==\"october\" or month==\"december\":\n",
        "  days_in_month=31\n",
        "elif months==\"apr\" or month==\"june\" or month==\"sep\" or month==\"november\":\n",
        "  days_in_month=30\n",
        "else:\n",
        "  days_in_month=28\n",
        "print(days_in_month)\n",
        "\n",
        "P=int(input(\"enter pricipal amt :\"))\n",
        "rate=int(input(\"enter rate \"))\n",
        "time_in_months=days/days_in_month\n",
        "interest_of_days=P*rate*time_in_months/100\n",
        "interest_of_month=P*rate*time/100\n",
        "total_interest=interest_of_days+interest_of_month\n",
        "print(\"Interest_of_month\",interest_of_month)\n",
        "print(\"Interest_of_days\",interest_of_days)\n",
        "print(\"Total Interest\",total_interest)\n",
        "\n",
        "\n",
        "\n",
        "\n"
      ],
      "metadata": {
        "id": "ADTqf_7GxbbR",
        "outputId": "64800663-7ea2-4f11-8a50-388d9cc58ead",
        "colab": {
          "base_uri": "https://localhost:8080/"
        }
      },
      "execution_count": null,
      "outputs": [
        {
          "output_type": "stream",
          "name": "stdout",
          "text": [
            "enter month time5\n",
            "enterdays :20\n",
            "enter month:may\n",
            "31\n",
            "enter pricipal amt :5000\n",
            "enter rate 10\n",
            "Interest_of_month 2500.0\n",
            "Interest_of_days 322.5806451612903\n",
            "Total Interest 2822.5806451612902\n"
          ]
        }
      ]
    },
    {
      "cell_type": "code",
      "source": [
        "#year=365\n",
        "#leap year=366 once in a year\n",
        "1996\n",
        "2000\n",
        "2004\n",
        "2008\n",
        "2012\n",
        "2016\n",
        "2020\n",
        "2024\n",
        "#condition for leap year: 2000%400==0 and 2000%100==0\n",
        "year=int(input(\"enter year\"))\n",
        "if (year%400==0) and (year%100==0):\n",
        "  print(year,\"leap year\")\n",
        "elif(year%4==0)and (year%100 !=0):\n",
        "  print(year,\"leap year\")\n",
        "else:\n",
        "  print(\"not a leap year\")\n"
      ],
      "metadata": {
        "id": "c66MYMDTB1WK",
        "outputId": "2e41de83-b790-4e55-b152-5a4e389104e8",
        "colab": {
          "base_uri": "https://localhost:8080/"
        }
      },
      "execution_count": null,
      "outputs": [
        {
          "output_type": "stream",
          "name": "stdout",
          "text": [
            "enter year2025\n",
            "not a leap year\n"
          ]
        }
      ]
    },
    {
      "cell_type": "code",
      "source": [
        "year=int(input(\"enter the year\"))\n",
        "if(year % 100==0 and year% 400==0):\n",
        "  print(\"leap year\")\n",
        "elif(year % 4==0 and year % 100 !=0):\n",
        "  print(\"leap year\")\n",
        "else:\n",
        "    print(\"not a leap year\")\n"
      ],
      "metadata": {
        "id": "umzdrLhOHCh8",
        "outputId": "52ad6682-9d72-4a3d-914c-489076681b7e",
        "colab": {
          "base_uri": "https://localhost:8080/"
        }
      },
      "execution_count": null,
      "outputs": [
        {
          "output_type": "stream",
          "name": "stdout",
          "text": [
            "enter the year2024\n",
            "leap year\n"
          ]
        }
      ]
    },
    {
      "cell_type": "code",
      "source": [
        "p=int(input(\"enter principal\"))\n",
        "r=int(input(\"enter rate\"))\n",
        "months=int(input(\"entermonths \"))\n",
        "t=months/12\n",
        "si=(p*r*t)/100\n",
        "print(\"simple interest\",si)\n"
      ],
      "metadata": {
        "colab": {
          "base_uri": "https://localhost:8080/"
        },
        "id": "jvYW9vyvOLaK",
        "outputId": "f01beccf-9907-4457-a951-afe94763c1f5"
      },
      "execution_count": null,
      "outputs": [
        {
          "output_type": "stream",
          "name": "stdout",
          "text": [
            "enter principal9500\n",
            "enter rate10\n",
            "entermonths 15\n",
            "simple interest 1187.5\n"
          ]
        }
      ]
    },
    {
      "cell_type": "code",
      "source": [
        "p=int(input(\"enter principal \"))\n",
        "r=float(input(\"enter rate\"))\n",
        "year=int(input(\"enter years\"))\n",
        "months=int(input(\"enter months\"))\n",
        "t=year+(months/12)\n",
        "\n",
        "si=(p*r*t)/100\n",
        "print(\"simple interest\",si)"
      ],
      "metadata": {
        "colab": {
          "base_uri": "https://localhost:8080/"
        },
        "id": "X9p6y-AbOz1h",
        "outputId": "091b80ed-6b40-45ba-bdc0-2357e7ea13d6"
      },
      "execution_count": null,
      "outputs": [
        {
          "output_type": "stream",
          "name": "stdout",
          "text": [
            "enter principal 12000\n",
            "enter rate7.5\n",
            "enter years2\n",
            "enter months3\n",
            "simple interest 2025.0\n"
          ]
        }
      ]
    },
    {
      "cell_type": "code",
      "source": [
        "p=int(input(\"enter principal\"))\n",
        "r=int(input(\"enter rate\"))\n",
        "t=int(input(\"time\"))\n",
        "a=p*(1+r/100)**t\n",
        "ci=a-p\n",
        "print(\"compound interest\",ci)"
      ],
      "metadata": {
        "colab": {
          "base_uri": "https://localhost:8080/"
        },
        "id": "TzOW6JuQRSPW",
        "outputId": "c2fe2e0d-ea37-47e8-c56c-2bd57b8257b9"
      },
      "execution_count": null,
      "outputs": [
        {
          "output_type": "stream",
          "name": "stdout",
          "text": [
            "enter principal5000\n",
            "enter rate5\n",
            "time2\n",
            "compound interest 512.5\n"
          ]
        }
      ]
    },
    {
      "cell_type": "code",
      "source": [
        "p=int(input(\"enter principal\"))\n",
        "r=int(input(\"enter rate\"))\n",
        "t=int(input(\"enter time\"))\n",
        "a=p*(1+r/100)**t\n",
        "ci=a-p\n",
        "print(\"compound interest\",ci)\n"
      ],
      "metadata": {
        "colab": {
          "base_uri": "https://localhost:8080/"
        },
        "id": "35cisvMBSRVD",
        "outputId": "3edfb542-8ef7-4fa1-8619-d8c24646fc2f"
      },
      "execution_count": null,
      "outputs": [
        {
          "output_type": "stream",
          "name": "stdout",
          "text": [
            "enter principal10000\n",
            "enter rate8\n",
            "enter time3\n",
            "compound interest 2597.120000000001\n"
          ]
        }
      ]
    }
  ]
}
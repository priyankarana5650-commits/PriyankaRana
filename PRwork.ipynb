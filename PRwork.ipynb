{
  "nbformat": 4,
  "nbformat_minor": 0,
  "metadata": {
    "colab": {
      "provenance": [],
      "authorship_tag": "ABX9TyO/YJBRY61ZOe7cgODaTjJz",
      "include_colab_link": true
    },
    "kernelspec": {
      "name": "python3",
      "display_name": "Python 3"
    },
    "language_info": {
      "name": "python"
    }
  },
  "cells": [
    {
      "cell_type": "markdown",
      "metadata": {
        "id": "view-in-github",
        "colab_type": "text"
      },
      "source": [
        "<a href=\"https://colab.research.google.com/github/priyankarana5650-commits/PriyankaRana/blob/main/PRwork.ipynb\" target=\"_parent\"><img src=\"https://colab.research.google.com/assets/colab-badge.svg\" alt=\"Open In Colab\"/></a>"
      ]
    },
    {
      "cell_type": "code",
      "execution_count": 33,
      "metadata": {
        "colab": {
          "base_uri": "https://localhost:8080/"
        },
        "id": "Tq2QAGkUpwjg",
        "outputId": "c20819ad-ee23-4122-9172-64a95613295f"
      },
      "outputs": [
        {
          "output_type": "stream",
          "name": "stdout",
          "text": [
            "      Biodata  \n",
            "name         : PriyankaRana\n",
            "Age          : 22\n",
            "MobileNo     : 2345678910\n",
            "FatherName   : BudhiSingh\n",
            "MotherName   : SunitaDevi\n",
            "Birth_Place  : Dharampur\n",
            "DateofBirth  : 01-05-2003\n"
          ]
        }
      ],
      "source": [
        "#making BoiData Project\n",
        "name= \"PriyankaRana\"\n",
        "Age= 22\n",
        "MobileNo=2345678910\n",
        "FatherName=\"BudhiSingh\"\n",
        "MotherName=\"SunitaDevi\"\n",
        "Birth_Place=\"Dharampur\"\n",
        "DateofBirth=\"01-05-2003\"\n",
        "print(\"      Biodata  \")\n",
        "print(\"name         :\",name)\n",
        "print(\"Age          :\",Age)\n",
        "print(\"MobileNo     :\",MobileNo)\n",
        "print(\"FatherName   :\",FatherName)\n",
        "print(\"MotherName   :\",MotherName)\n",
        "print(\"Birth_Place  :\",Birth_Place)\n",
        "print(\"DateofBirth  :\",DateofBirth)"
      ]
    },
    {
      "cell_type": "code",
      "source": [],
      "metadata": {
        "id": "Zfk8KrM0sX_P"
      },
      "execution_count": null,
      "outputs": []
    }
  ]
}
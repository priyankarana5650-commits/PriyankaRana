{
  "nbformat": 4,
  "nbformat_minor": 0,
  "metadata": {
    "colab": {
      "provenance": [],
      "authorship_tag": "ABX9TyN2/djpI8JpTr2XecBGBL3q",
      "include_colab_link": true
    },
    "kernelspec": {
      "name": "python3",
      "display_name": "Python 3"
    },
    "language_info": {
      "name": "python"
    }
  },
  "cells": [
    {
      "cell_type": "markdown",
      "metadata": {
        "id": "view-in-github",
        "colab_type": "text"
      },
      "source": [
        "<a href=\"https://colab.research.google.com/github/priyankarana5650-commits/PriyankaRana/blob/main/PRwork.ipynb\" target=\"_parent\"><img src=\"https://colab.research.google.com/assets/colab-badge.svg\" alt=\"Open In Colab\"/></a>"
      ]
    },
    {
      "cell_type": "code",
      "execution_count": 3,
      "metadata": {
        "colab": {
          "base_uri": "https://localhost:8080/"
        },
        "id": "jItyTQ-L1YZW",
        "outputId": "62f963bd-87b8-42c0-b881-3b231963a5ed"
      },
      "outputs": [
        {
          "output_type": "stream",
          "name": "stdout",
          "text": [
            "enter principal5000\n",
            "enter rate8\n",
            "enter months9\n",
            "simple Interest 300.0\n"
          ]
        }
      ],
      "source": [
        "p=int(input(\"enter principal\"))\n",
        "r=int(input(\"enter rate\"))\n",
        "months=int(input(\"enter months\"))\n",
        "t=months/12\n",
        "si=(p*r*t)/100\n",
        "print(\"simple Interest\",si)\n"
      ]
    },
    {
      "cell_type": "code",
      "source": [
        "p=int(input(\"enter principal\"))\n",
        "r=int(input(\"enter rate\"))\n",
        "months=int(input(\"entermonths \"))\n",
        "t=months/12\n",
        "si=(p*r*t)/100\n",
        "print(\"simple interest\",si)\n"
      ],
      "metadata": {
        "colab": {
          "base_uri": "https://localhost:8080/"
        },
        "id": "jvYW9vyvOLaK",
        "outputId": "f01beccf-9907-4457-a951-afe94763c1f5"
      },
      "execution_count": 4,
      "outputs": [
        {
          "output_type": "stream",
          "name": "stdout",
          "text": [
            "enter principal9500\n",
            "enter rate10\n",
            "entermonths 15\n",
            "simple interest 1187.5\n"
          ]
        }
      ]
    },
    {
      "cell_type": "code",
      "source": [
        "p=int(input(\"enter principal \"))\n",
        "r=float(input(\"enter rate\"))\n",
        "year=int(input(\"enter years\"))\n",
        "months=int(input(\"enter months\"))\n",
        "t=year+(months/12)\n",
        "\n",
        "si=(p*r*t)/100\n",
        "print(\"simple interest\",si)"
      ],
      "metadata": {
        "colab": {
          "base_uri": "https://localhost:8080/"
        },
        "id": "X9p6y-AbOz1h",
        "outputId": "091b80ed-6b40-45ba-bdc0-2357e7ea13d6"
      },
      "execution_count": 7,
      "outputs": [
        {
          "output_type": "stream",
          "name": "stdout",
          "text": [
            "enter principal 12000\n",
            "enter rate7.5\n",
            "enter years2\n",
            "enter months3\n",
            "simple interest 2025.0\n"
          ]
        }
      ]
    },
    {
      "cell_type": "code",
      "source": [
        "p=int(input(\"enter principal\"))\n",
        "r=int(input(\"enter rate\"))\n",
        "t=int(input(\"time\"))\n",
        "a=p*(1+r/100)**t\n",
        "ci=a-p\n",
        "print(\"compound interest\",ci)"
      ],
      "metadata": {
        "colab": {
          "base_uri": "https://localhost:8080/"
        },
        "id": "TzOW6JuQRSPW",
        "outputId": "c2fe2e0d-ea37-47e8-c56c-2bd57b8257b9"
      },
      "execution_count": 8,
      "outputs": [
        {
          "output_type": "stream",
          "name": "stdout",
          "text": [
            "enter principal5000\n",
            "enter rate5\n",
            "time2\n",
            "compound interest 512.5\n"
          ]
        }
      ]
    },
    {
      "cell_type": "code",
      "source": [
        "p=int(input(\"enter principal\"))\n",
        "r=int(input(\"enter rate\"))\n",
        "t=int(input(\"enter time\"))\n",
        "a=p*(1+r/100)**t\n",
        "ci=a-p\n",
        "print(\"compound interest\",ci)\n"
      ],
      "metadata": {
        "colab": {
          "base_uri": "https://localhost:8080/"
        },
        "id": "35cisvMBSRVD",
        "outputId": "3edfb542-8ef7-4fa1-8619-d8c24646fc2f"
      },
      "execution_count": 10,
      "outputs": [
        {
          "output_type": "stream",
          "name": "stdout",
          "text": [
            "enter principal10000\n",
            "enter rate8\n",
            "enter time3\n",
            "compound interest 2597.120000000001\n"
          ]
        }
      ]
    }
  ]
}
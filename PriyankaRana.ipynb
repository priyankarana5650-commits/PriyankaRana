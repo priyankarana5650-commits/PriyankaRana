{
  "nbformat": 4,
  "nbformat_minor": 0,
  "metadata": {
    "colab": {
      "provenance": [],
      "authorship_tag": "ABX9TyMhgAXtDoOt32awPM+n8uCc",
      "include_colab_link": true
    },
    "kernelspec": {
      "name": "python3",
      "display_name": "Python 3"
    },
    "language_info": {
      "name": "python"
    }
  },
  "cells": [
    {
      "cell_type": "markdown",
      "metadata": {
        "id": "view-in-github",
        "colab_type": "text"
      },
      "source": [
        "<a href=\"https://colab.research.google.com/github/priyankarana5650-commits/PriyankaRana/blob/main/PriyankaRana.ipynb\" target=\"_parent\"><img src=\"https://colab.research.google.com/assets/colab-badge.svg\" alt=\"Open In Colab\"/></a>"
      ]
    },
    {
      "cell_type": "code",
      "source": [],
      "metadata": {
        "id": "9ShqrNz-nIdY"
      },
      "execution_count": null,
      "outputs": []
    },
    {
      "cell_type": "code",
      "source": [],
      "metadata": {
        "id": "iAe17jD_yZ0I"
      },
      "execution_count": null,
      "outputs": []
    },
    {
      "cell_type": "code",
      "execution_count": null,
      "metadata": {
        "id": "SyRYfb4OF3GY",
        "outputId": "4430e73d-46ec-4fd8-999c-cfaa4763aca1",
        "colab": {
          "base_uri": "https://localhost:8080/"
        }
      },
      "outputs": [
        {
          "output_type": "stream",
          "name": "stdout",
          "text": [
            "enter year2024\n",
            "leap year\n"
          ]
        }
      ],
      "source": [
        "year=int(input(\"enter year\"))\n",
        "if (year%400==0) and (year%100==0):\n",
        "  print(\"leap year\")\n",
        "elif(year%4==0)and (year%100 !=0):\n",
        "  print(\"leap year\")\n",
        "else:\n",
        "  print(\"not a leap year\")\n"
      ]
    },
    {
      "cell_type": "code",
      "source": [
        "for i in range(1,11):               #Loop\n",
        "  print(i)"
      ],
      "metadata": {
        "colab": {
          "base_uri": "https://localhost:8080/"
        },
        "id": "-dXbzczyr4EO",
        "outputId": "b7604c53-c328-4b1b-ae58-e4c88c299062"
      },
      "execution_count": null,
      "outputs": [
        {
          "output_type": "stream",
          "name": "stdout",
          "text": [
            "1\n",
            "2\n",
            "3\n",
            "4\n",
            "5\n",
            "6\n",
            "7\n",
            "8\n",
            "9\n",
            "10\n"
          ]
        }
      ]
    },
    {
      "cell_type": "code",
      "source": [
        "for even in range(0,11,2):\n",
        "  print(even)"
      ],
      "metadata": {
        "colab": {
          "base_uri": "https://localhost:8080/"
        },
        "id": "ygZTOpZ8shSf",
        "outputId": "98f50592-193e-441e-8db2-2758b2fae18e"
      },
      "execution_count": null,
      "outputs": [
        {
          "output_type": "stream",
          "name": "stdout",
          "text": [
            "0\n",
            "2\n",
            "4\n",
            "6\n",
            "8\n",
            "10\n"
          ]
        }
      ]
    },
    {
      "cell_type": "code",
      "source": [
        "for odd in range(1,11,2):\n",
        "  print(odd)"
      ],
      "metadata": {
        "colab": {
          "base_uri": "https://localhost:8080/"
        },
        "id": "_eBC-tEqtlDF",
        "outputId": "b938374c-5997-4594-ddcb-e2c16890814b"
      },
      "execution_count": null,
      "outputs": [
        {
          "output_type": "stream",
          "name": "stdout",
          "text": [
            "1\n",
            "3\n",
            "5\n",
            "7\n",
            "9\n"
          ]
        }
      ]
    },
    {
      "cell_type": "code",
      "source": [
        "sum=0\n",
        "for i in range(1,11):\n",
        "  sum=sum+i\n",
        "  print(sum)"
      ],
      "metadata": {
        "colab": {
          "base_uri": "https://localhost:8080/"
        },
        "id": "PnwudwyWudp6",
        "outputId": "c868b82d-233f-46ae-bac9-f21da6dca389"
      },
      "execution_count": null,
      "outputs": [
        {
          "output_type": "stream",
          "name": "stdout",
          "text": [
            "1\n",
            "3\n",
            "6\n",
            "10\n",
            "15\n",
            "21\n",
            "28\n",
            "36\n",
            "45\n",
            "55\n"
          ]
        }
      ]
    },
    {
      "cell_type": "code",
      "source": [
        "sum=0\n",
        "for i in range(1,12,2):\n",
        "  sum=sum+i\n",
        "  print(sum)\n"
      ],
      "metadata": {
        "colab": {
          "base_uri": "https://localhost:8080/"
        },
        "id": "p5NgHs7SvsYA",
        "outputId": "8771bec1-ca16-4c01-dd7e-31c5e31aa072"
      },
      "execution_count": null,
      "outputs": [
        {
          "output_type": "stream",
          "name": "stdout",
          "text": [
            "1\n",
            "4\n",
            "9\n",
            "16\n",
            "25\n",
            "36\n"
          ]
        }
      ]
    },
    {
      "cell_type": "code",
      "source": [
        "sum=0\n",
        "for i in range(2,13,2):\n",
        "  sum=sum+i\n",
        "  print(sum)"
      ],
      "metadata": {
        "colab": {
          "base_uri": "https://localhost:8080/"
        },
        "id": "-fw7FkWUv7rQ",
        "outputId": "a46eb33f-8e1a-4609-c119-4f1ee411bf34"
      },
      "execution_count": null,
      "outputs": [
        {
          "output_type": "stream",
          "name": "stdout",
          "text": [
            "2\n",
            "6\n",
            "12\n",
            "20\n",
            "30\n",
            "42\n"
          ]
        }
      ]
    },
    {
      "cell_type": "code",
      "source": [
        "fact=1\n",
        "for i in range(1,6):\n",
        "\n",
        "  fact=fact*i\n",
        "  print(fact)\n"
      ],
      "metadata": {
        "colab": {
          "base_uri": "https://localhost:8080/"
        },
        "id": "XjEoL0mIxKmb",
        "outputId": "e03524de-dd3b-47da-c836-d5a21dd0ca99"
      },
      "execution_count": null,
      "outputs": [
        {
          "output_type": "stream",
          "name": "stdout",
          "text": [
            "1\n",
            "2\n",
            "6\n",
            "24\n",
            "120\n"
          ]
        }
      ]
    },
    {
      "cell_type": "code",
      "source": [
        "sum=0\n",
        "fact=1\n",
        "for i in range(1,6):\n",
        "  fact=fact*i\n",
        "print(fact)\n"
      ],
      "metadata": {
        "colab": {
          "base_uri": "https://localhost:8080/"
        },
        "id": "y_sLnSSm0NI7",
        "outputId": "6d616452-a69c-4eba-f38a-54883c26464d"
      },
      "execution_count": 15,
      "outputs": [
        {
          "output_type": "stream",
          "name": "stdout",
          "text": [
            "120\n"
          ]
        }
      ]
    },
    {
      "cell_type": "code",
      "source": [
        "fact=1\n",
        "sum=0\n",
        "for i in range(1,6):\n",
        "  fact=fact*i\n",
        "  sum=sum+fact\n",
        "  print(sum)\n",
        "  print(fact)\n",
        ""
      ],
      "metadata": {
        "id": "2cFph3Ne1MtZ",
        "outputId": "c72a3e1d-60ec-4836-94ba-90eb7a98bc6a",
        "colab": {
          "base_uri": "https://localhost:8080/"
        }
      },
      "execution_count": 34,
      "outputs": [
        {
          "output_type": "stream",
          "name": "stdout",
          "text": [
            "1\n",
            "1\n",
            "3\n",
            "2\n",
            "9\n",
            "6\n",
            "33\n",
            "24\n",
            "153\n",
            "120\n"
          ]
        }
      ]
    },
    {
      "cell_type": "code",
      "source": [],
      "metadata": {
        "id": "177N0DOz0ZFb"
      },
      "execution_count": null,
      "outputs": []
    },
    {
      "cell_type": "code",
      "source": [
        "fact=1\n",
        "sum=0\n",
        "for i in range(1,6):\n",
        "  fact= fact*i\n",
        "  if i %2!=0:\n",
        "      sum=sum+fact\n",
        "print(sum)\n"
      ],
      "metadata": {
        "id": "xBt-WMIW1iV8",
        "colab": {
          "base_uri": "https://localhost:8080/"
        },
        "outputId": "6b0440a5-10fe-4678-bd94-278cf13dca84"
      },
      "execution_count": null,
      "outputs": [
        {
          "output_type": "stream",
          "name": "stdout",
          "text": [
            "127\n"
          ]
        }
      ]
    },
    {
      "cell_type": "code",
      "source": [
        "\n",
        " sum=0\n",
        " for i in range (1,6,2):\n",
        "  fact=1\n",
        "  for j in range (1,i+1):\n",
        "      fact= fact*j\n",
        "  sum=sum+fact\n",
        " print(sum)\n",
        "\n"
      ],
      "metadata": {
        "colab": {
          "base_uri": "https://localhost:8080/"
        },
        "id": "JGxIA89TZQvN",
        "outputId": "d608a365-2298-4728-83c3-b0cb0e166269"
      },
      "execution_count": null,
      "outputs": [
        {
          "output_type": "stream",
          "name": "stdout",
          "text": [
            "127\n"
          ]
        }
      ]
    },
    {
      "cell_type": "code",
      "source": [
        "#factorl\n",
        "#3!+8!+13!+14!+20!+26!=?\n",
        "#3!+8!+13!=?\n",
        "\n",
        "sum1 = 0\n",
        "for i in range(3,14,5):\n",
        "  fact=1\n",
        "  for j in range(1,i+1):\n",
        "    fact=fact*j\n",
        "  sum1=sum1+fact\n",
        "print(sum1)"
      ],
      "metadata": {
        "colab": {
          "base_uri": "https://localhost:8080/"
        },
        "id": "yl9k1wWMoDw2",
        "outputId": "ff705f28-0945-4096-8806-58cfcb5af892"
      },
      "execution_count": null,
      "outputs": [
        {
          "output_type": "stream",
          "name": "stdout",
          "text": [
            "6227061126\n"
          ]
        }
      ]
    },
    {
      "cell_type": "code",
      "source": [
        "#factorial\n",
        "#14!+20!+26!\n",
        "sum2=0\n",
        "for i in range(14,27,6):\n",
        "  fact=1\n",
        "  for j in range(1,i+1):\n",
        "      fact=fact*i\n",
        "  sum2=sum2+fact\n",
        "print(sum2)\n",
        "print(sum1+sum2)\n",
        "\n",
        "\n",
        "\n",
        "\n",
        "\n",
        "\n",
        "\n"
      ],
      "metadata": {
        "colab": {
          "base_uri": "https://localhost:8080/"
        },
        "id": "pHpw3eDtodzz",
        "outputId": "53b5134b-eb48-4bb2-8e2d-f0da252cf6c6"
      },
      "execution_count": null,
      "outputs": [
        {
          "output_type": "stream",
          "name": "stdout",
          "text": [
            "6156119580312014910807786295225761792\n",
            "6156119580312014910807786301452822918\n"
          ]
        }
      ]
    },
    {
      "cell_type": "code",
      "source": [
        "#fabonaccai\n",
        "first_term=0\n",
        "second_term=1\n",
        "print(first_term)\n",
        "print(second_term)\n",
        "for i in range(3,10):\n",
        " third_term=first_term+second_term\n",
        " first_term=second_term\n",
        " second_term=third_term\n",
        " print(third_term)\n",
        "\n",
        "\n",
        "\n",
        "\n"
      ],
      "metadata": {
        "colab": {
          "base_uri": "https://localhost:8080/"
        },
        "id": "FKFEzmkdfQT0",
        "outputId": "171c0bb6-fa40-4e02-cd5d-091130637c9b"
      },
      "execution_count": null,
      "outputs": [
        {
          "output_type": "stream",
          "name": "stdout",
          "text": [
            "0\n",
            "1\n",
            "1\n",
            "2\n",
            "3\n",
            "5\n",
            "8\n",
            "13\n",
            "21\n"
          ]
        }
      ]
    },
    {
      "cell_type": "code",
      "source": [],
      "metadata": {
        "id": "c4--PwLQoR3I"
      },
      "execution_count": null,
      "outputs": []
    },
    {
      "cell_type": "code",
      "source": [
        "first_term=0\n",
        "second_term=1\n",
        "print(first_term)\n",
        "print(second_term)\n",
        "for i in range(3,13):\n",
        " third_term=first_term+second_term\n",
        " first_term=second_term\n",
        " second_term=third_term\n",
        "print(third_term)\n"
      ],
      "metadata": {
        "colab": {
          "base_uri": "https://localhost:8080/"
        },
        "id": "TK6W3wqtlQL9",
        "outputId": "1dfbf955-bf36-45c0-c0d2-0bf964e83b23"
      },
      "execution_count": null,
      "outputs": [
        {
          "output_type": "stream",
          "name": "stdout",
          "text": [
            "0\n",
            "1\n",
            "89\n"
          ]
        }
      ]
    },
    {
      "cell_type": "code",
      "source": [
        "sum=0\n",
        "for i in range (0,7,2):\n",
        "    fact=1\n",
        "    for j in range(1,i+1):\n",
        "      fact=fact*j\n",
        "    sum= sum +fact\n",
        "    print(sum)\n",
        "\n"
      ],
      "metadata": {
        "colab": {
          "base_uri": "https://localhost:8080/"
        },
        "id": "cs5PYTVmbY-q",
        "outputId": "e6c737d5-f1c2-4d03-913d-f8e44b2bac4e"
      },
      "execution_count": null,
      "outputs": [
        {
          "output_type": "stream",
          "name": "stdout",
          "text": [
            "1\n",
            "3\n",
            "27\n",
            "747\n"
          ]
        }
      ]
    },
    {
      "cell_type": "code",
      "source": [
        "light=input(\"Enter which light is Green(north/south/east/west)\")\n",
        "if light==\"south\":\n",
        "  print(\"west outgoing road  : running\")\n",
        "  print(\"north outgoing road : running\")\n",
        "  print(\"east outgoing road  :running\")\n",
        "  print(\"south outgoing road : runing\")\n",
        "  print(\" west incoming      :stop\")\n",
        "  print(\"north incoming      :stop\")\n",
        "  print(\"east incoming       :stop\")\n",
        "elif light==\"west\":\n",
        "  print(\"north outgoing road : running\")\n",
        "  print(\"east outgoing road  : running\")\n",
        "  print(\"south outgoing road :running\")\n",
        "  print(\"west outgoing road  :running\")\n",
        "  print(\"north incoming      :stop\")\n",
        "  print(\"east incoming       :stop\")\n",
        "  print(\"south incoming      :stop\")\n",
        "elif light==\"north\":\n",
        "  print(\"east outgoing       :running\")\n",
        "  print(\"south outgoing      :running\")\n",
        "  print(\"west outgoing       :running\")\n",
        "  print(\"north outgoing      :running\")\n",
        "  print(\"east incoming       :stop\")\n",
        "  print(\"south incoming      :stop\")\n",
        "  print(\"west incoming       :stop\")\n",
        "elif light==\"east\":\n",
        "  print(\"south outgoing      :running\")\n",
        "  print(\"west outgoing       :running\")\n",
        "  print(\"north outgoing      :running\")\n",
        "  print(\"east outgoing       :running\")\n",
        "  print(\"south incoming      :stop\")\n",
        "  print(\"west incoming       :stop\")\n",
        "  print(\"north incoming      :stop\")\n",
        "else:\n",
        "  print(\"invalid direction\")\n",
        "\n",
        "\n"
      ],
      "metadata": {
        "id": "AAHZhXcfC5vY",
        "outputId": "839764b7-519a-49d5-baf7-961e80aed35e",
        "colab": {
          "base_uri": "https://localhost:8080/"
        }
      },
      "execution_count": null,
      "outputs": [
        {
          "output_type": "stream",
          "name": "stdout",
          "text": [
            "Enter which light is Green(north/south/east/west)north\n",
            "east outgoing       :running\n",
            "south outgoing      :running\n",
            "west outgoing       :running\n",
            "north outgoing      :running\n",
            "east incoming       :stop\n",
            "south incoming      :stop\n",
            "west incoming       :stop\n"
          ]
        }
      ]
    },
    {
      "cell_type": "code",
      "source": [
        "number=int(input(\"enter number :\"))\n",
        "if number%5==0:\n",
        "  print(\"odd\")\n",
        "else:\n",
        "  print(\"even\")"
      ],
      "metadata": {
        "id": "zmcHbrPwBxk8",
        "outputId": "8824117a-33d8-4403-ad81-8a1be136f00b",
        "colab": {
          "base_uri": "https://localhost:8080/"
        }
      },
      "execution_count": null,
      "outputs": [
        {
          "output_type": "stream",
          "name": "stdout",
          "text": [
            "enter number :5\n",
            "odd\n"
          ]
        }
      ]
    },
    {
      "cell_type": "code",
      "source": [
        "number=35\n",
        "if number % 7==0 and number % 5==0:\n",
        "  print(\"divisible\")\n",
        "else:\n",
        "  print(\"not divisible\")\n"
      ],
      "metadata": {
        "id": "YPCCky0NCm-1",
        "outputId": "2e8b461f-ec98-4ca3-e9d7-6bb37beac58e",
        "colab": {
          "base_uri": "https://localhost:8080/"
        }
      },
      "execution_count": null,
      "outputs": [
        {
          "output_type": "stream",
          "name": "stdout",
          "text": [
            "divisible\n"
          ]
        }
      ]
    },
    {
      "cell_type": "code",
      "source": [
        "gender=input(\"enter gender(male/female):\" )\n",
        "age=int(input(\"enter age\"))\n",
        "if gender==\"male\":\n",
        "  print(\"hotelA\")\n",
        "  if age>30:\n",
        "    print(\"buildingA\")\n",
        "else:\n",
        "  print(\"hotelB\")\n",
        "if age>30:\n",
        "  print(\"send to building A\")\n",
        "else:\n",
        "  print(\"send to building B\")\n",
        "\n",
        "\n",
        "\n",
        "\n",
        "\n",
        "\n",
        "\n",
        "\n"
      ],
      "metadata": {
        "id": "LRCN69lqEf-t",
        "outputId": "ff941a91-f6e5-4ca9-a6b2-17dffae5bb25",
        "colab": {
          "base_uri": "https://localhost:8080/"
        }
      },
      "execution_count": null,
      "outputs": [
        {
          "output_type": "stream",
          "name": "stdout",
          "text": [
            "enter gender(male/female):female\n",
            "enter age32\n",
            "hotelB\n",
            "send to building A\n"
          ]
        }
      ]
    },
    {
      "cell_type": "code",
      "source": [
        "num=int(input(\"enter number\"))\n",
        "if num==0:\n",
        "  print(\"number is zero\")\n",
        "if num>0:\n",
        "  print(\"number is positive\")\n",
        "else:\n",
        "  print(\"number is nagative\")"
      ],
      "metadata": {
        "id": "G9CsUIw2nxMV",
        "outputId": "e421e9d4-ad5e-48d7-b1bc-9ea52dced89c",
        "colab": {
          "base_uri": "https://localhost:8080/"
        }
      },
      "execution_count": null,
      "outputs": [
        {
          "output_type": "stream",
          "name": "stdout",
          "text": [
            "enter number-5\n",
            "number is nagative\n"
          ]
        }
      ]
    },
    {
      "cell_type": "code",
      "source": [
        "number1=int(input(\"enter number1:\"))\n",
        "number2=int(input(\"enternumber2:\"))\n",
        "\n",
        "if  number1== number2 :\n",
        "  print(\"both are equal\")\n",
        "else:\n",
        "  print(\"not equal\")"
      ],
      "metadata": {
        "id": "NTALPE6LcDMd",
        "outputId": "b5349da2-fc00-4af0-a843-d41531de72ec",
        "colab": {
          "base_uri": "https://localhost:8080/"
        }
      },
      "execution_count": null,
      "outputs": [
        {
          "output_type": "stream",
          "name": "stdout",
          "text": [
            "enter number1:10\n",
            "enternumber2:10\n",
            "both are equal\n"
          ]
        }
      ]
    },
    {
      "cell_type": "code",
      "source": [
        "\n",
        "time= int(input(\"enter month time\"))\n",
        "month=input(\"enter month :\")\n",
        "days=int(input(\"days\"))\n",
        "year=int(input(\"enter year\"))\n",
        "if month==\"jan\" or month==\"may\" or month==\"july\" or month==\"august\" or month==\"october\" or month==\"december\":\n",
        "  days_in_month=31\n",
        "elif month==\"apr\"or month==\"june\" or month==\"september\" or month==\"nov\":\n",
        "  days_in_month=30\n",
        "else:\n",
        "  if year % 4 ==0 and year % 100!= 0 or year % 400==0:\n",
        "    days_in_month=29\n",
        "  else:\n",
        "    days_in_month=28\n",
        "\n",
        "print(\"days in month\",days_in_month)\n",
        "print(days/days_in_month)\n",
        "principle=int(input(\"principle\"))\n",
        "rate=int(input(\"rate\"))\n",
        "time_in_month=days/days_in_month\n",
        "interest_of_days=principle*rate*time_in_month/100\n",
        "interest_of_month=principle*rate*time/100\n",
        "total_interest= interest_of_days+interest_of_month\n",
        "print(\"total interest\",total_interest)\n",
        "print(interest_of_days)\n",
        "\n",
        "\n",
        "\n",
        "\n",
        "\n",
        "\n"
      ],
      "metadata": {
        "id": "8tUXs405KWFH",
        "outputId": "c8de6978-83c3-4557-abff-062688c04a6f",
        "colab": {
          "base_uri": "https://localhost:8080/"
        }
      },
      "execution_count": null,
      "outputs": [
        {
          "output_type": "stream",
          "name": "stdout",
          "text": [
            "enter month time2\n",
            "enter month :feb\n",
            "days28\n",
            "enter year2024\n",
            "days in month 29\n",
            "0.9655172413793104\n",
            "principle5000\n",
            "rate10\n",
            "total interest 1482.7586206896553\n",
            "482.75862068965523\n"
          ]
        }
      ]
    },
    {
      "cell_type": "code",
      "source": [
        "first=500\n",
        "second=100\n",
        "sum=first+second\n",
        "sub=first-second\n",
        "multi=first*second\n",
        "divide=first/second\n",
        "print(sum)\n",
        "print(sub)\n",
        "print(multi)\n",
        "print(divide)\n",
        "First_Number=5\n",
        "second_Number=7\n",
        "print(First_Number+second_Number )\n",
        "600\n",
        "400\n",
        "50000\n",
        "5.0\n",
        "12\n",
        "\n",
        "\n",
        "\n"
      ],
      "metadata": {
        "id": "jTfF0zptKzD2"
      },
      "execution_count": null,
      "outputs": []
    },
    {
      "cell_type": "code",
      "source": [
        "gender=(input(\"gender=\"))\n",
        "if gender==\"male\":\n",
        "  print(\"sunday,monday,thursday\")\n",
        "else:\n",
        "  print(\"tuesday,wednesday,friday\")\n",
        "\n",
        "\n",
        "\n"
      ],
      "metadata": {
        "colab": {
          "base_uri": "https://localhost:8080/"
        },
        "id": "g8EqIJQL3onn",
        "outputId": "ba2ab98f-16b8-46b7-9524-834256787536"
      },
      "execution_count": null,
      "outputs": [
        {
          "output_type": "stream",
          "name": "stdout",
          "text": [
            "gender=female\n",
            "tuesday,wednesday,friday\n"
          ]
        }
      ]
    },
    {
      "cell_type": "code",
      "source": [
        "principle=5000\n",
        "rate=5\n",
        "time=2\n",
        "interest=principle*rate*time/100\n",
        "print(interest)\n",
        "#Simple Interest"
      ],
      "metadata": {
        "colab": {
          "base_uri": "https://localhost:8080/"
        },
        "id": "KP2nY_iO789x",
        "outputId": "314873e3-216f-4d34-a7d2-3b842cf0f9c3"
      },
      "execution_count": null,
      "outputs": [
        {
          "output_type": "stream",
          "name": "stdout",
          "text": [
            "500.0\n"
          ]
        }
      ]
    },
    {
      "cell_type": "code",
      "source": [
        "principle=int(input(\"entre principle :\"))\n",
        "rate=int(input(\"entre rate           :\"))\n",
        "time=int(input(\"time                 :\"))\n",
        "amount=principle*(pow((1+rate/100),time))\n",
        "CI=amount-principle\n",
        "print(\"compound Interest             :\",CI)\n",
        "print(\"Total amount you have to pay  :\",amount)\n",
        "\n",
        "#compound Interest\n"
      ],
      "metadata": {
        "colab": {
          "base_uri": "https://localhost:8080/"
        },
        "id": "VPd6O8jKp6XA",
        "outputId": "a343e4e9-1eb6-4010-9076-119e02fb7168"
      },
      "execution_count": null,
      "outputs": [
        {
          "output_type": "stream",
          "name": "stdout",
          "text": [
            "entre principle :5000\n",
            "entre rate           :10\n",
            "time                 :5\n",
            "compound Interest             : 3052.550000000003\n",
            "Total amount you have to pay  : 8052.550000000003\n"
          ]
        }
      ]
    },
    {
      "cell_type": "code",
      "source": [
        "p=int(input(\"enter principal\"))\n",
        "r=int(input(\"enter rate\"))\n",
        "t=int(input(\"enter time\"))\n",
        "a=p*(1+r/100)**t\n",
        "ci=a-p\n",
        "print(\"compound interest\",ci)\n",
        "#compound interest"
      ],
      "metadata": {
        "colab": {
          "base_uri": "https://localhost:8080/"
        },
        "outputId": "3edfb542-8ef7-4fa1-8619-d8c24646fc2f",
        "id": "UN6rI_E3TZK5"
      },
      "execution_count": null,
      "outputs": [
        {
          "output_type": "stream",
          "name": "stdout",
          "text": [
            "enter principal10000\n",
            "enter rate8\n",
            "enter time3\n",
            "compound interest 2597.120000000001\n"
          ]
        }
      ]
    },
    {
      "cell_type": "code",
      "source": [
        "#Q1.principal=6000\n",
        "#rate=10%\n",
        "#time=6 months\n",
        "#convert months to years:\n",
        "#time =6/12=0.5 years\n",
        "\n",
        "principal=int(input(\"enter principal:\"))\n",
        "rate=int(input(\"enter rate:\"))\n",
        "months=int(input(\"enter time in months: \"))\n",
        "time=months/12\n",
        "si=(principal*rate*time)/100\n",
        "print(\"simple interest:\",si)\n",
        "\n",
        "#Q2.P=10000\n",
        "#R=7%\n",
        "#time=2 years 6 months\n",
        "\n",
        "p=int(input(\"enter principal:\"))\n",
        "r=int(input(\"enter rate :\"))\n",
        "years=int(input(\"enter years: \"))\n",
        "months=int(input(\"enter months :\"))\n",
        "t= years+(months/12)\n",
        "si=(p*r*t)/100\n",
        "print(\"Simple interest:\",si)\n",
        "\n",
        "#Q3.personA:\n",
        "#p=5000\n",
        "#r=8%\n",
        "#time=12\n",
        "#personB:\n",
        "#p=7000\n",
        "#r=6%\n",
        "#time=10\n",
        "P1=int(input(\"enter principal for personA:\"))\n",
        "R1=int(input(\"enter rate for personA:\"))\n",
        "months1=int(input(\"enter months for personA\"))\n",
        "\n",
        "P2=int(input(\"enter principal for personB:\"))\n",
        "R2=int(input(\"enter rate for personB:\"))\n",
        "months2=int(input(\"enter months for personB\"))\n",
        "\n",
        "T1=months1/12\n",
        "T2=months2/12\n",
        "SI1=(P1*R1*T1)/100\n",
        "SI2=(P2*R2*T2)/100\n",
        "print(\"personA Interest:\",SI1)\n",
        "print(\"personB Interest:\",SI2)\n",
        "if SI1>SI2:\n",
        "      print(\"personA earned more interest.\")\n",
        "elif SI2>SI1:\n",
        "      print(\"personB earned more interest.\")\n",
        "else:\n",
        "      print(\"Both earned equal interest.\")\n",
        "\n",
        "\n",
        "\n",
        "\n"
      ],
      "metadata": {
        "colab": {
          "base_uri": "https://localhost:8080/"
        },
        "id": "yrbF1SFO5DJe",
        "outputId": "373b647e-3ee0-459c-a7e9-49642520aef3"
      },
      "execution_count": null,
      "outputs": [
        {
          "output_type": "stream",
          "name": "stdout",
          "text": [
            "enter principal:6000\n",
            "enter rate:10\n",
            "enter time in months: 6\n",
            "simple interest: 300.0\n",
            "enter principal:10000\n",
            "enter rate :7\n",
            "enter years: 2\n",
            "enter months :6\n",
            "Simple interest: 1750.0\n",
            "enter principal for personA:5000\n",
            "enter rate for personA:8\n",
            "enter months for personA12\n",
            "enter principal for personB:7000\n",
            "enter rate for personB:6\n",
            "enter months for personB10\n",
            "personA Interest: 400.0\n",
            "personB Interest: 350.0\n",
            "personA earned more interest.\n"
          ]
        }
      ]
    },
    {
      "cell_type": "code",
      "source": [
        "principle=int(input(\"principle\"))\n",
        "rate=int(input(\"rate\"))\n",
        "time=int(input(\"time\"))\n",
        "days=int(input(\"days\"))\n",
        "time_in_month= days/30\n",
        "interest=principle*rate*time/100\n",
        "SI=(principle)*(rate)*(time_in_month)/100\n",
        "print(interest)\n",
        "print(SI)\n",
        "print(interest+SI)"
      ],
      "metadata": {
        "colab": {
          "base_uri": "https://localhost:8080/"
        },
        "id": "rkpstb_hAYz-",
        "outputId": "936852df-0192-4af9-85df-bc08179fea07"
      },
      "execution_count": null,
      "outputs": [
        {
          "output_type": "stream",
          "name": "stdout",
          "text": [
            "principle5000\n",
            "rate10\n",
            "time5\n",
            "days20\n",
            "2500.0\n",
            "333.33333333333326\n",
            "2833.333333333333\n"
          ]
        }
      ]
    },
    {
      "cell_type": "code",
      "source": [
        "year=int(input(\"enter year\"))\n",
        "if year % 4 ==0 and year % 100!= 0 or year % 400==0:\n",
        "\n",
        "   print(\"days_in_month 29\")\n",
        "else:\n",
        "  print(\" days_in_month 28\")\n"
      ],
      "metadata": {
        "colab": {
          "base_uri": "https://localhost:8080/"
        },
        "id": "HNV8GEPRNG2P",
        "outputId": "c29d7884-2d48-44f3-dd6e-765e4167968b"
      },
      "execution_count": null,
      "outputs": [
        {
          "output_type": "stream",
          "name": "stdout",
          "text": [
            "enter year2024\n",
            "days_in_month 29\n"
          ]
        }
      ]
    },
    {
      "cell_type": "code",
      "source": [
        "Principle=int(input(\"Principle\"))\n",
        "rate=int(input(\"rate\"))\n",
        "time=int(input(\"time\"))\n",
        "SI=(Principle)*(rate)*(time)/100\n",
        "print(SI)\n",
        "print(\"Total amount paid after 1 year:\",SI+Principle)   # Simple Interest"
      ],
      "metadata": {
        "colab": {
          "base_uri": "https://localhost:8080/"
        },
        "id": "WbteIoiCmPUA",
        "outputId": "9750c8b6-67b9-4471-b39e-4dbcd7d9f5d1"
      },
      "execution_count": null,
      "outputs": [
        {
          "output_type": "stream",
          "name": "stdout",
          "text": [
            "Principle5000\n",
            "rate10\n",
            "time5\n",
            "2500.0\n",
            "Total amount paid after 1 year: 7500.0\n"
          ]
        }
      ]
    },
    {
      "cell_type": "code",
      "source": [
        "\n",
        "item1=\"pizza\"\n",
        "price_of_item1=500\n",
        "item2=\"Burger\"\n",
        "price_of_item2=100\n",
        "item3=\"noddles\"\n",
        "price_of_item3=200\n",
        "item4=\"coffee\"\n",
        "price_of_item4=200\n",
        "item5=\"sandwich\"\n",
        "price_of_item5=300\n",
        "sum=price_of_item1+price_of_item2+price_of_item3+price_of_item4+price_of_item5\n",
        "print(\"........ Reciept..........\")\n",
        "print(\"pizza     :\", price_of_item1)\n",
        "print(\"burger    :\",price_of_item2)\n",
        "print(\"noddles   :\",price_of_item3)\n",
        "print(\"coffee    :\",price_of_item4)\n",
        "print(\"sandwich  :\",price_of_item5)\n",
        "\n",
        "discount=sum*(10/100)\n",
        "print(\"discount=           :\",discount)\n",
        "print(\"total=              :\",sum)\n",
        "print(\"-----------------------\")\n",
        "print(\"total amount to pay=:\",sum-discount)"
      ],
      "metadata": {
        "colab": {
          "base_uri": "https://localhost:8080/"
        },
        "id": "PagYwYxmMytu",
        "outputId": "83d2a79e-0735-4b4b-da75-63405b10e952"
      },
      "execution_count": null,
      "outputs": [
        {
          "output_type": "stream",
          "name": "stdout",
          "text": [
            "........ Reciept..........\n",
            "pizza     : 500\n",
            "burger    : 100\n",
            "noddles   : 200\n",
            "coffee    : 200\n",
            "sandwich  : 300\n",
            "discount=           : 130.0\n",
            "total=              : 1300\n",
            "-----------------------\n",
            "total amount to pay=: 1170.0\n"
          ]
        }
      ]
    },
    {
      "cell_type": "code",
      "source": [
        "item1=\"pizza\"\n",
        "price_of_item1=200\n",
        "item2=\"burger\"\n",
        "price_of_item2=300\n",
        "item3=\"noddles\"\n",
        "price_of_item3=400\n",
        "item4=\"coffee\"\n",
        "price_of_item4=250\n",
        "item5=\"sandwich\"\n",
        "price_of_item5=100\n",
        "print(\"------Bill------\")\n",
        "print(\"pizza    :\",price_of_item1)\n",
        "print(\"burger   :\",price_of_item2)\n",
        "print(\"noddle   :\",price_of_item3)\n",
        "print(\"coffee   :\",price_of_item4)\n",
        "print(\"sandwich :\",price_of_item5)\n",
        "print(\"----------------------------\")\n",
        "item1=\"pizza\"\n",
        "price_of_item1=200\n",
        "discount_percent_on_item1= 10\n",
        "discount_on_item1= price_of_item1*discount_percent_on_item1/100\n",
        "price_of_item1_after_dis= price_of_item1 - discount_on_item1\n",
        "print(\"......After Discount.....\")\n",
        "print(\"Pizza                   :\",price_of_item1_after_dis)\n",
        "item2=\"burger\"\n",
        "price_of_item2=300\n",
        "discount_percent_on_item2=10\n",
        "discount_on_item2=price_of_item2*discount_percent_on_item2/100\n",
        "price_of_item2_after_dis=price_of_item2-discount_on_item2\n",
        "print(\"burger                  :\",price_of_item2_after_dis)\n",
        "item3=\"noddles\"\n",
        "price_of_item3=200\n",
        "discount_percent_on_item3= 10\n",
        "discount_on_item3= price_of_item3*discount_percent_on_item3/100\n",
        "price_of_item3_after_dis= price_of_item3 - discount_on_item3\n",
        "print(\"noddles                 :\",price_of_item3_after_dis)\n",
        "item4=\"coffee\"\n",
        "price_of_item4=200\n",
        "discount_percent_on_item4= 10\n",
        "discount_on_item4= price_of_item4*discount_percent_on_item4/100\n",
        "price_of_item4_after_dis= price_of_item4 - discount_on_item4\n",
        "print(\"coffee                  :\",price_of_item4_after_dis)\n",
        "item5=\"sandwich\"\n",
        "price_of_item5=200\n",
        "discount_percent_on_item5= 10\n",
        "discount_on_item5= price_of_item5*discount_percent_on_item5/100\n",
        "price_of_item5_after_dis= price_of_item5 - discount_on_item5\n",
        "print(\"sandwich                :\",price_of_item5_after_dis)\n",
        "Total_Payable_Amount=price_of_item1_after_dis+price_of_item2_after_dis+price_of_item3_after_dis+price_of_item4_after_dis+price_of_item5_after_dis\n",
        "print(\"Total Payable Amount    :\",Total_Payable_Amount)\n",
        "\n",
        "\n",
        "\n",
        "\n",
        "\n",
        "#delivery Address\n",
        "\n",
        "name=\"PriyankaRana\"\n",
        "address=\"h.no.1234,sector18d\"\n",
        "mobileno=1234567892\n",
        "pincode=160018\n",
        "\n",
        "\n",
        "\n",
        "print(\"......Delivery Address.....\")\n",
        "print(\"name     :\",name)\n",
        "print(\"mobileno.:\",mobileno)\n",
        "print(\"pincode  :\",pincode)\n",
        "\n",
        "\n",
        "\n",
        "\n",
        "\n",
        "\n"
      ],
      "metadata": {
        "colab": {
          "base_uri": "https://localhost:8080/"
        },
        "id": "PVZMA5Cp_GFK",
        "outputId": "daa0f2ae-bfce-47b0-9aba-ecf9a0f2a2f3"
      },
      "execution_count": null,
      "outputs": [
        {
          "output_type": "stream",
          "name": "stdout",
          "text": [
            "------Bill------\n",
            "pizza    : 200\n",
            "burger   : 300\n",
            "noddle   : 400\n",
            "coffee   : 250\n",
            "sandwich : 100\n",
            "----------------------------\n",
            "......After Discount.....\n",
            "Pizza                   : 180.0\n",
            "burger                  : 270.0\n",
            "noddles                 : 180.0\n",
            "coffee                  : 180.0\n",
            "sandwich                : 180.0\n",
            "Total Payable Amount    : 990.0\n",
            "......Delivery Address.....\n",
            "name     : PriyankaRana\n",
            "mobileno.: 1234567892\n",
            "pincode  : 160018\n"
          ]
        }
      ]
    },
    {
      "cell_type": "code",
      "source": [
        "\n",
        "item1=input(\"name of item1\")\n",
        "price_of_item1=int(input(\"enter your price\"))\n",
        "item2=input(\"name of item2\")\n",
        "price_of_item2= int(input(\"enter price of item2\"))\n",
        "total_bill= price_of_item1+price_of_item2\n",
        "print(total_bill)\n",
        "\n",
        "\n"
      ],
      "metadata": {
        "colab": {
          "base_uri": "https://localhost:8080/"
        },
        "id": "Lmj_ZGDvU5K-",
        "outputId": "ba446c85-a6d3-474e-b9b8-7e75b6bb169b"
      },
      "execution_count": null,
      "outputs": [
        {
          "output_type": "stream",
          "name": "stdout",
          "text": [
            "name of item1pizza\n",
            "enter your price300\n",
            "name of item2fries\n",
            "enter price of item2500\n",
            "800\n"
          ]
        }
      ]
    },
    {
      "cell_type": "code",
      "source": [
        "a=int(input(\"entre value of a \"))\n",
        "b=int(input(\"entre vaue of b\"))\n",
        "sum=(a+b)\n",
        "print(\"sum\",sum)\n",
        "multiply=(a*b)\n",
        "divide=(a/b)\n",
        "print(\"multiply\",multiply)\n",
        "print(\"divide\",divide)"
      ],
      "metadata": {
        "colab": {
          "base_uri": "https://localhost:8080/"
        },
        "id": "wenZCsBCYr0X",
        "outputId": "45d237e8-898d-47c3-a175-dbb64edc58f6"
      },
      "execution_count": null,
      "outputs": [
        {
          "output_type": "stream",
          "name": "stdout",
          "text": [
            "entre value of a: 200\n",
            "entre vaue of b:300\n",
            "sum 500\n",
            "multiply 60000\n",
            "divide 0.6666666666666666\n"
          ]
        }
      ]
    },
    {
      "cell_type": "code",
      "source": [
        "order1=input(\"enter order name\")\n",
        "price_of_order1=int(input(\"enter your price\"))\n",
        "discount_on_order1=int(input(\"enter discount\"))\n",
        "discount_on_order1=price_of_order1*discount_on_order1/100\n",
        "price_of_order1_after_dis=price_of_order1-discount_on_order1\n",
        "\n",
        "print(\".....order1.....\")\n",
        "print(\"order1:\",order1)\n",
        "print(\"price_of_order1:\",price_of_order1)\n",
        "print(\"discount:\",discount_on_order1)\n",
        "print(\"price:\",price_of_order1_after_dis)\n",
        "\n",
        "\n",
        "order2=input(\"enter order name:\")\n",
        "price_of_order2=int(input(\"enter your price\"))\n",
        "discount_on_order2=int(input(\"enter discount\"))\n",
        "discount_on_order2=price_of_order2*discount_on_order2/100\n",
        "price_of_order2_after_dis=price_of_order2-discount_on_order2\n",
        "\n",
        "print(\".....orderNO.2.....\")\n",
        "print(\"order2:\",order2)\n",
        "print(\"price_of_order2:\",price_of_order2)\n",
        "print(\"discount:\",discount_on_order2)\n",
        "print(\"price:\",price_of_order2_after_dis)\n",
        "\n",
        "\n",
        "\n",
        "order3=input(\"enter order name:\")\n",
        "price_of_order3=int(input(\"enter your price\"))\n",
        "discount_on_order3=int(input(\"enter discount\"))\n",
        "discount_on_order3=price_of_order3*discount_on_order3/100\n",
        "price_of_order3_after_dis=price_of_order3-discount_on_order3\n",
        "print(\"......orderNo3.....\")\n",
        "print(\"order3:\",order3)\n",
        "print(\"price_of_order3:\",price_of_order3)\n",
        "print(\"discount:\",discount_on_order3)\n",
        "print(\"price:\",price_of_order3_after_dis)\n",
        "\n",
        "\n",
        "\n",
        "order4=input(\"enter order name:\")\n",
        "price_of_order4=int(input(\"enter your price\"))\n",
        "discount_on_order4=int(input(\"enter discount\"))\n",
        "discount_on_order4=price_of_order4*discount_on_order4/100\n",
        "price_of_order4_after_dis=price_of_order4-discount_on_order4\n",
        "print(\".....orderNo.4......\")\n",
        "print(\"order4:\",order4)\n",
        "print(\"price_of_order4:\",price_of_order4)\n",
        "print(\"discount:\",discount_on_order4)\n",
        "print(\"price:\",price_of_order4_after_dis)\n",
        "\n",
        "\n",
        "\n",
        "order5=input(\"enter order name:\")\n",
        "price_of_order5=int(input(\"enter your price\"))\n",
        "discount_on_order5=int(input(\"enter discount\"))\n",
        "discount_on_order5=price_of_order1*discount_on_order1/100\n",
        "price_of_order5_after_dis=price_of_order5-discount_on_order5\n",
        "print(\".......orderNo5......\")\n",
        "print(\"order1:\",order1)\n",
        "print(\"price_of_order1:\",price_of_order1)\n",
        "print(\"discount:\",discount_on_order1)\n",
        "print(\"price:\",price_of_order1_after_dis)\n",
        "\n",
        "total_payable_bill=price_of_order1+price_of_order2+price_of_order3+price_of_order4+price_of_order5\n",
        "print(\"..............................................\")\n",
        "print(total_bill)\n",
        "\n",
        "\n",
        "\n"
      ],
      "metadata": {
        "id": "WxYQWg2MYRPs",
        "colab": {
          "base_uri": "https://localhost:8080/"
        },
        "outputId": "f799f5dd-6ee2-4dfd-bec3-849f71846b7a"
      },
      "execution_count": null,
      "outputs": [
        {
          "output_type": "stream",
          "name": "stdout",
          "text": [
            "enter order namepizza\n",
            "enter your price500\n",
            "enter discount10\n",
            ".....order1.....\n",
            "order1: pizza\n",
            "price_of_order1: 500\n",
            "discount: 50.0\n",
            "price: 450.0\n",
            "enter order name:burger\n",
            "enter your price400\n",
            "enter discount10\n",
            ".....orderNO.2.....\n",
            "order2: burger\n",
            "price_of_order2: 400\n",
            "discount: 40.0\n",
            "price: 360.0\n",
            "enter order name:noddles\n",
            "enter your price200\n",
            "enter discount10\n",
            "......orderNo3.....\n",
            "order3: noddles\n",
            "price_of_order3: 200\n",
            "discount: 20.0\n",
            "price: 180.0\n",
            "enter order name:coffee\n",
            "enter your price600\n",
            "enter discount10\n",
            ".....orderNo.4......\n",
            "order4: coffee\n",
            "price_of_order4: 600\n",
            "discount: 60.0\n",
            "price: 540.0\n",
            "enter order name:sandwich\n",
            "enter your price500\n",
            "enter discount10\n",
            ".......orderNo5......\n",
            "order1: pizza\n",
            "price_of_order1: 500\n",
            "discount: 50.0\n",
            "price: 450.0\n",
            "..............................................\n",
            "1250\n"
          ]
        }
      ]
    },
    {
      "cell_type": "code",
      "source": [
        "item1= input(\"enter item1                   : \")\n",
        "price_item1= int(input(\"enter price of item1: \"))\n",
        "discount1= int(input(\"enter discount 1      : \"))\n",
        "discount_price1= price_item1*discount1/100\n",
        "final_price1= price_item1-discount_price1\n",
        "print(\"final Price                          :\",final_price1)\n",
        "\n",
        "item2= input(\"enter item2                   : \")\n",
        "price_item2= int(input(\"enter price of item2: \"))\n",
        "discount2= int(input(\"enter discount 2      : \"))\n",
        "discount_price2= price_item2*discount2/100\n",
        "final_price2= price_item2-discount_price2\n",
        "print(\"Final Price                          :\",final_price2)\n",
        "\n",
        "item3=(input(\"enter item3                   :\"))\n",
        "price_item3=int(input(\"enter price of item3 :\"))\n",
        "discount3=int(input(\"enter discunt3         :\"))\n",
        "discount_price3= price_item3*discount3/100\n",
        "final_price3=price_item3-discount_price3\n",
        "print(\"Final Price                         :\",final_price3)\n",
        "\n",
        "total_bill= price_item1+price_item2\n",
        "actual_bill= final_price1 +final_price2\n",
        "print(\"Total bill                          :\",total_bill)\n",
        "print(\"Actual bill                         :\",actual_bill)\n",
        "\n",
        "print(\"........Delivery Address.......\")\n",
        "name=\"Priyanka Rana\"\n",
        "House_No=\" 1514,Sector 18D \"\n",
        "Mobile_No=1234567878\n",
        "Pincode=160018\n",
        "print(\"Name     :\",name)\n",
        "print(\"House No.:\",House_No)\n",
        "print(\"Pincode  :\",Pincode)\n",
        "\n"
      ],
      "metadata": {
        "colab": {
          "base_uri": "https://localhost:8080/"
        },
        "id": "iqa9pCX0moUh",
        "outputId": "4b04b393-5002-4044-f17c-486657303715"
      },
      "execution_count": null,
      "outputs": [
        {
          "output_type": "stream",
          "name": "stdout",
          "text": [
            "enter item1                   : Badsheet\n",
            "enter price of item1: 500\n",
            "enter discount 1      : 10\n",
            "final Price : 450.0\n",
            "enter item2                   : Curtains\n",
            "enter price of item2: 1000\n",
            "enter discount 2      : 10\n",
            "Final Price : 900.0\n",
            "enter item3                  :Flowerpot\n",
            "enter price of item3:1500\n",
            "enter discunt3        :10\n",
            "Final Price: 1350.0\n",
            "Total bill  : 1500\n",
            "Actual bill : 1350.0\n",
            "........Delivery Address.......\n",
            "Name     : Priyanka Rana\n",
            "House No.:  1514,Sector 18D \n",
            "Pincode  : 160018\n"
          ]
        }
      ]
    }
  ]
}
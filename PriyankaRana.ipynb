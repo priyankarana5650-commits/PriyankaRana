{
  "nbformat": 4,
  "nbformat_minor": 0,
  "metadata": {
    "colab": {
      "provenance": [],
      "authorship_tag": "ABX9TyNtgDW6CNC6HKAHW1CdR+wE",
      "include_colab_link": true
    },
    "kernelspec": {
      "name": "python3",
      "display_name": "Python 3"
    },
    "language_info": {
      "name": "python"
    }
  },
  "cells": [
    {
      "cell_type": "markdown",
      "metadata": {
        "id": "view-in-github",
        "colab_type": "text"
      },
      "source": [
        "<a href=\"https://colab.research.google.com/github/priyankarana5650-commits/PriyankaRana/blob/main/PriyankaRana.ipynb\" target=\"_parent\"><img src=\"https://colab.research.google.com/assets/colab-badge.svg\" alt=\"Open In Colab\"/></a>"
      ]
    },
    {
      "cell_type": "code",
      "execution_count": 2,
      "metadata": {
        "colab": {
          "base_uri": "https://localhost:8080/"
        },
        "id": "swDay2n9-vCt",
        "outputId": "d60265d8-87cb-473c-e92f-f7dcdaee36bd"
      },
      "outputs": [
        {
          "output_type": "stream",
          "name": "stdout",
          "text": [
            "hello Priya\n"
          ]
        }
      ],
      "source": [
        "print(\"hello Priya\")"
      ]
    },
    {
      "cell_type": "code",
      "source": [],
      "metadata": {
        "id": "pXwTv1QUDhPD"
      },
      "execution_count": null,
      "outputs": []
    },
    {
      "cell_type": "markdown",
      "source": [],
      "metadata": {
        "id": "VAhvLKZ7Dsf8"
      }
    },
    {
      "cell_type": "code",
      "source": [
        "# Making bio data project\n",
        "print(\"        BioData      \")\n",
        "print(\"Name           : Priyanka Rana\")\n",
        "print(\"Age            : 22\")\n",
        "print(\"Mobile No.     : 1234566789\" )\n",
        "print(\"Father Name    : Budhi Singh\" )\n",
        "print(\"Mother Name    : Sunita Devi\")\n",
        "print(\"Date of Birth  : 01/05/2003\")\n",
        "print(\"Birth Place    : Dharampur\")\n",
        "print(\"Qualification  : Post graduation\")\n",
        "print(\"Nationality    : Indian\")\n"
      ],
      "metadata": {
        "colab": {
          "base_uri": "https://localhost:8080/"
        },
        "id": "wQWPEIeDDwfm",
        "outputId": "e865a24c-88d1-4662-bc0d-a75d1d261e6b"
      },
      "execution_count": 8,
      "outputs": [
        {
          "output_type": "stream",
          "name": "stdout",
          "text": [
            "        BioData      \n",
            "Name           : Priyanka Rana\n",
            "Age            : 22\n",
            "Mobile No.     : 1234566789\n",
            "Father Name    : Budhi Singh\n",
            "Mother Name    : Sunita Devi\n",
            "Date of Birth  : 01/05/2003\n",
            "Birth Place    : Dharampur\n",
            "Qualification  : Post graduation\n",
            "Nationality    : Indian\n"
          ]
        }
      ]
    }
  ]
}
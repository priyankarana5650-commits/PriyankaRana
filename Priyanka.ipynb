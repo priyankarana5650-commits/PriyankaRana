{
  "nbformat": 4,
  "nbformat_minor": 0,
  "metadata": {
    "colab": {
      "provenance": [],
      "authorship_tag": "ABX9TyN9MEMeXC5zApDRLaB4UTJ4",
      "include_colab_link": true
    },
    "kernelspec": {
      "name": "python3",
      "display_name": "Python 3"
    },
    "language_info": {
      "name": "python"
    }
  },
  "cells": [
    {
      "cell_type": "markdown",
      "metadata": {
        "id": "view-in-github",
        "colab_type": "text"
      },
      "source": [
        "<a href=\"https://colab.research.google.com/github/priyankarana5650-commits/PriyankaRana/blob/main/Priyanka.ipynb\" target=\"_parent\"><img src=\"https://colab.research.google.com/assets/colab-badge.svg\" alt=\"Open In Colab\"/></a>"
      ]
    },
    {
      "cell_type": "code",
      "execution_count": null,
      "metadata": {
        "id": "SyRYfb4OF3GY"
      },
      "outputs": [],
      "source": [
        ""
      ]
    },
    {
      "cell_type": "code",
      "source": [
        "first=500\n",
        "second=100\n",
        "sum=first+second\n",
        "sub=first-second\n",
        "multi=first*second\n",
        "divide=first/second\n",
        "print(sum)\n",
        "print(sub)\n",
        "print(multi)\n",
        "print(divide)\n",
        "\n",
        "\n"
      ],
      "metadata": {
        "colab": {
          "base_uri": "https://localhost:8080/"
        },
        "id": "jTfF0zptKzD2",
        "outputId": "85e359bb-b9ce-4203-a5d5-5b3b9627f929"
      },
      "execution_count": 19,
      "outputs": [
        {
          "output_type": "stream",
          "name": "stdout",
          "text": [
            "600\n",
            "400\n",
            "50000\n",
            "5.0\n"
          ]
        }
      ]
    },
    {
      "cell_type": "code",
      "source": [
        "First_Number=5\n",
        "second_Number=7\n",
        "print(First_Number+second_Number )\n",
        "item1=\"pizza\"\n",
        "price_of_item1=500\n",
        "item2=\"Burger\"\n",
        "price_of_item2=100\n",
        "item3=\"noddles\"\n",
        "price_of_item3=200\n",
        "item4=\"coffee\"\n",
        "price_of_item4=200\n",
        "item5=\"sandwich\"\n",
        "price_of_item5=300\n",
        "total_bill=price_of_item1+price_of_item2+price_of_item3+price_of_item4+price_of_item5\n",
        "print(total_bill)\n",
        "discount=10\n",
        "totaldiscount=total_bill*discount/100\n",
        "print(totaldiscount)"
      ],
      "metadata": {
        "colab": {
          "base_uri": "https://localhost:8080/"
        },
        "id": "PagYwYxmMytu",
        "outputId": "0bf56553-ffe8-48a5-aa1a-6c851d443497"
      },
      "execution_count": 30,
      "outputs": [
        {
          "output_type": "stream",
          "name": "stdout",
          "text": [
            "12\n",
            "1300\n",
            "130.0\n"
          ]
        }
      ]
    },
    {
      "cell_type": "code",
      "source": [
        "discount=10\n",
        "totaldiscount=total_bill*discount/100\n",
        "print(totaldiscount)"
      ],
      "metadata": {
        "colab": {
          "base_uri": "https://localhost:8080/"
        },
        "id": "ejeFNNveTNkx",
        "outputId": "547f14fd-0955-4de7-b07a-44e3c6513e95"
      },
      "execution_count": 24,
      "outputs": [
        {
          "output_type": "stream",
          "name": "stdout",
          "text": [
            "130.0\n"
          ]
        }
      ]
    },
    {
      "cell_type": "code",
      "source": [
        "print(\"........ Reciept..........\")\n",
        "print(\"pizza     :\", price_of_item1)\n",
        "print(\"burger    :\",price_of_item2)\n",
        "print(\"noddles     :\",price_of_item3)\n",
        "print(\"coffee    :\",price_of_item4)\n",
        "print(\"sandwich    :\",price_of_item5)\n",
        "print(\"--------------------------\")\n",
        "print(\"Total Bill :\", total_bill)\n",
        "discount=10\n",
        "totaldiscount=total_bill*discount/100\n",
        "print(\"Discount    :\",totaldiscount)\n",
        "payable_bill=total_bill-totaldiscount\n",
        "print(payable_bill)"
      ],
      "metadata": {
        "colab": {
          "base_uri": "https://localhost:8080/"
        },
        "id": "hL843OxGQvTb",
        "outputId": "8a774feb-3469-4d38-e0fe-2f28007e2146"
      },
      "execution_count": 29,
      "outputs": [
        {
          "output_type": "stream",
          "name": "stdout",
          "text": [
            "........ Reciept..........\n",
            "pizza     : 500\n",
            "burger    : 100\n",
            "noddles     : 200\n",
            "coffee    : 200\n",
            "sandwich    : 300\n",
            "--------------------------\n",
            "Total Bill : 1300\n",
            "Discount    : 130.0\n",
            "1170.0\n"
          ]
        }
      ]
    }
  ]
}
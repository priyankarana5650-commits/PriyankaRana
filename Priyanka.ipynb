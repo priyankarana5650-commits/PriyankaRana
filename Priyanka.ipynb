{
  "nbformat": 4,
  "nbformat_minor": 0,
  "metadata": {
    "colab": {
      "provenance": [],
      "authorship_tag": "ABX9TyM7a11uSa1LPGIj2JKCl+90",
      "include_colab_link": true
    },
    "kernelspec": {
      "name": "python3",
      "display_name": "Python 3"
    },
    "language_info": {
      "name": "python"
    }
  },
  "cells": [
    {
      "cell_type": "markdown",
      "metadata": {
        "id": "view-in-github",
        "colab_type": "text"
      },
      "source": [
        "<a href=\"https://colab.research.google.com/github/priyankarana5650-commits/PriyankaRana/blob/main/Priyanka.ipynb\" target=\"_parent\"><img src=\"https://colab.research.google.com/assets/colab-badge.svg\" alt=\"Open In Colab\"/></a>"
      ]
    },
    {
      "cell_type": "code",
      "execution_count": null,
      "metadata": {
        "id": "SyRYfb4OF3GY"
      },
      "outputs": [],
      "source": []
    },
    {
      "cell_type": "code",
      "source": [
        "first=500\n",
        "second=100\n",
        "sum=first+second\n",
        "sub=first-second\n",
        "multi=first*second\n",
        "divide=first/second\n",
        "print(sum)\n",
        "print(sub)\n",
        "print(multi)\n",
        "print(divide)\n",
        "First_Number=5\n",
        "second_Number=7\n",
        "print(First_Number+second_Number )\n",
        "600\n",
        "400\n",
        "50000\n",
        "5.0\n",
        "12\n",
        "\n",
        "\n",
        "\n"
      ],
      "metadata": {
        "id": "jTfF0zptKzD2"
      },
      "execution_count": null,
      "outputs": []
    },
    {
      "cell_type": "code",
      "source": [
        "\n",
        "item1=\"pizza\"\n",
        "price_of_item1=500\n",
        "item2=\"Burger\"\n",
        "price_of_item2=100\n",
        "item3=\"noddles\"\n",
        "price_of_item3=200\n",
        "item4=\"coffee\"\n",
        "price_of_item4=200\n",
        "item5=\"sandwich\"\n",
        "price_of_item5=300\n",
        "sum=price_of_item1+price_of_item2+price_of_item3+price_of_item4+price_of_item5\n",
        "print(\"........ Reciept..........\")\n",
        "print(\"pizza     :\", price_of_item1)\n",
        "print(\"burger    :\",price_of_item2)\n",
        "print(\"noddles   :\",price_of_item3)\n",
        "print(\"coffee    :\",price_of_item4)\n",
        "print(\"sandwich  :\",price_of_item5)\n",
        "\n",
        "discount=sum*(10/100)\n",
        "print(\"discount=           :\",discount)\n",
        "print(\"total=              :\",sum)\n",
        "print(\"-----------------------\")\n",
        "print(\"total amount to pay=:\",sum-discount)"
      ],
      "metadata": {
        "colab": {
          "base_uri": "https://localhost:8080/"
        },
        "id": "PagYwYxmMytu",
        "outputId": "83d2a79e-0735-4b4b-da75-63405b10e952"
      },
      "execution_count": null,
      "outputs": [
        {
          "output_type": "stream",
          "name": "stdout",
          "text": [
            "........ Reciept..........\n",
            "pizza     : 500\n",
            "burger    : 100\n",
            "noddles   : 200\n",
            "coffee    : 200\n",
            "sandwich  : 300\n",
            "discount=           : 130.0\n",
            "total=              : 1300\n",
            "-----------------------\n",
            "total amount to pay=: 1170.0\n"
          ]
        }
      ]
    },
    {
      "cell_type": "code",
      "source": [
        "item1=\"pizza\"\n",
        "price_of_item1=200\n",
        "item2=\"burger\"\n",
        "price_of_item2=300\n",
        "item3=\"noddles\"\n",
        "price_of_item3=400\n",
        "item4=\"coffee\"\n",
        "price_of_item4=250\n",
        "item5=\"sandwich\"\n",
        "price_of_item5=100\n",
        "print(\"------Bill------\")\n",
        "print(\"pizza    :\",price_of_item1)\n",
        "print(\"burger   :\",price_of_item2)\n",
        "print(\"noddle   :\",price_of_item3)\n",
        "print(\"coffee   :\",price_of_item4)\n",
        "print(\"sandwich :\",price_of_item5)\n",
        "print(\"----------------------------\")\n",
        "item1=\"pizza\"\n",
        "price_of_item1=200\n",
        "discount_percent_on_item1= 10\n",
        "discount_on_item1= price_of_item1*discount_percent_on_item1/100\n",
        "price_of_item1_after_dis= price_of_item1 - discount_on_item1\n",
        "print(\"......After Discount.....\")\n",
        "print(\"Pizza                   :\",price_of_item1_after_dis)\n",
        "item2=\"burger\"\n",
        "price_of_item2=300\n",
        "discount_percent_on_item2=10\n",
        "discount_on_item2=price_of_item2*discount_percent_on_item2/100\n",
        "price_of_item2_after_dis=price_of_item2-discount_on_item2\n",
        "print(\"burger                  :\",price_of_item2_after_dis)\n",
        "item3=\"noddles\"\n",
        "price_of_item3=200\n",
        "discount_percent_on_item3= 10\n",
        "discount_on_item3= price_of_item3*discount_percent_on_item3/100\n",
        "price_of_item3_after_dis= price_of_item3 - discount_on_item3\n",
        "print(\"noddles                 :\",price_of_item3_after_dis)\n",
        "item4=\"coffee\"\n",
        "price_of_item4=200\n",
        "discount_percent_on_item4= 10\n",
        "discount_on_item4= price_of_item4*discount_percent_on_item4/100\n",
        "price_of_item4_after_dis= price_of_item4 - discount_on_item4\n",
        "print(\"coffee                  :\",price_of_item4_after_dis)\n",
        "item5=\"sandwich\"\n",
        "price_of_item5=200\n",
        "discount_percent_on_item5= 10\n",
        "discount_on_item5= price_of_item5*discount_percent_on_item5/100\n",
        "price_of_item5_after_dis= price_of_item5 - discount_on_item5\n",
        "print(\"sandwich                :\",price_of_item5_after_dis)\n",
        "Total_Payable_Amount=price_of_item1_after_dis+price_of_item2_after_dis+price_of_item3_after_dis+price_of_item4_after_dis+price_of_item5_after_dis\n",
        "print(\"Total Payable Amount    :\",Total_Payable_Amount)\n",
        "\n",
        "\n",
        "\n",
        "\n",
        "\n",
        "#delivery Address\n",
        "\n",
        "name=\"PriyankaRana\"\n",
        "address=\"h.no.1234,sector18d\"\n",
        "mobileno=1234567892\n",
        "pincode=160018\n",
        "\n",
        "\n",
        "\n",
        "print(\"......Delivery Address.....\")\n",
        "print(\"name     :\",name)\n",
        "print(\"mobileno.:\",mobileno)\n",
        "print(\"pincode  :\",pincode)\n",
        "\n",
        "\n",
        "\n",
        "\n",
        "\n",
        "\n"
      ],
      "metadata": {
        "colab": {
          "base_uri": "https://localhost:8080/"
        },
        "id": "PVZMA5Cp_GFK",
        "outputId": "daa0f2ae-bfce-47b0-9aba-ecf9a0f2a2f3"
      },
      "execution_count": null,
      "outputs": [
        {
          "output_type": "stream",
          "name": "stdout",
          "text": [
            "------Bill------\n",
            "pizza    : 200\n",
            "burger   : 300\n",
            "noddle   : 400\n",
            "coffee   : 250\n",
            "sandwich : 100\n",
            "----------------------------\n",
            "......After Discount.....\n",
            "Pizza                   : 180.0\n",
            "burger                  : 270.0\n",
            "noddles                 : 180.0\n",
            "coffee                  : 180.0\n",
            "sandwich                : 180.0\n",
            "Total Payable Amount    : 990.0\n",
            "......Delivery Address.....\n",
            "name     : PriyankaRana\n",
            "mobileno.: 1234567892\n",
            "pincode  : 160018\n"
          ]
        }
      ]
    },
    {
      "cell_type": "code",
      "source": [
        "\n",
        "item1=input(\"name of item1\")\n",
        "price_of_item1=int(input(\"enter your price\"))\n",
        "item2=input(\"name of item2\")\n",
        "price_of_item2= int(input(\"enter price of item2\"))\n",
        "total_bill= price_of_item1+price_of_item2\n",
        "print(total_bill)\n",
        "\n",
        "\n"
      ],
      "metadata": {
        "colab": {
          "base_uri": "https://localhost:8080/"
        },
        "id": "Lmj_ZGDvU5K-",
        "outputId": "ba446c85-a6d3-474e-b9b8-7e75b6bb169b"
      },
      "execution_count": null,
      "outputs": [
        {
          "output_type": "stream",
          "name": "stdout",
          "text": [
            "name of item1pizza\n",
            "enter your price300\n",
            "name of item2fries\n",
            "enter price of item2500\n",
            "800\n"
          ]
        }
      ]
    },
    {
      "cell_type": "code",
      "source": [
        "a=int(input(\"entre value of a \"))\n",
        "b=int(input(\"entre vaue of b\"))\n",
        "sum=(a+b)\n",
        "print(\"sum\",sum)\n",
        "multiply=(a*b)\n",
        "divide=(a/b)\n",
        "print(\"multiply\",multiply)\n",
        "print(\"divide\",divide)"
      ],
      "metadata": {
        "colab": {
          "base_uri": "https://localhost:8080/"
        },
        "id": "wenZCsBCYr0X",
        "outputId": "45d237e8-898d-47c3-a175-dbb64edc58f6"
      },
      "execution_count": null,
      "outputs": [
        {
          "output_type": "stream",
          "name": "stdout",
          "text": [
            "entre value of a: 200\n",
            "entre vaue of b:300\n",
            "sum 500\n",
            "multiply 60000\n",
            "divide 0.6666666666666666\n"
          ]
        }
      ]
    },
    {
      "cell_type": "code",
      "source": [
        "order1=input(\"enter order name\")\n",
        "price_of_order1=int(input(\"enter your price\"))\n",
        "discount_on_order1=int(input(\"enter discount\"))\n",
        "discount_on_order1=price_of_order1*discount_on_order1/100\n",
        "price_of_order1_after_dis=price_of_order1-discount_on_order1\n",
        "\n",
        "print(\".....order1.....\")\n",
        "print(\"order1:\",order1)\n",
        "print(\"price_of_order1:\",price_of_order1)\n",
        "print(\"discount:\",discount_on_order1)\n",
        "print(\"price:\",price_of_order1_after_dis)\n",
        "\n",
        "\n",
        "order2=input(\"enter order name:\")\n",
        "price_of_order2=int(input(\"enter your price\"))\n",
        "discount_on_order2=int(input(\"enter discount\"))\n",
        "discount_on_order2=price_of_order2*discount_on_order2/100\n",
        "price_of_order2_after_dis=price_of_order2-discount_on_order2\n",
        "\n",
        "print(\".....orderNO.2.....\")\n",
        "print(\"order2:\",order2)\n",
        "print(\"price_of_order2:\",price_of_order2)\n",
        "print(\"discount:\",discount_on_order2)\n",
        "print(\"price:\",price_of_order2_after_dis)\n",
        "\n",
        "\n",
        "\n",
        "order3=input(\"enter order name:\")\n",
        "price_of_order3=int(input(\"enter your price\"))\n",
        "discount_on_order3=int(input(\"enter discount\"))\n",
        "discount_on_order3=price_of_order3*discount_on_order3/100\n",
        "price_of_order3_after_dis=price_of_order3-discount_on_order3\n",
        "print(\"......orderNo3.....\")\n",
        "print(\"order3:\",order3)\n",
        "print(\"price_of_order3:\",price_of_order3)\n",
        "print(\"discount:\",discount_on_order3)\n",
        "print(\"price:\",price_of_order3_after_dis)\n",
        "\n",
        "\n",
        "\n",
        "order4=input(\"enter order name:\")\n",
        "price_of_order4=int(input(\"enter your price\"))\n",
        "discount_on_order4=int(input(\"enter discount\"))\n",
        "discount_on_order4=price_of_order4*discount_on_order4/100\n",
        "price_of_order4_after_dis=price_of_order4-discount_on_order4\n",
        "print(\".....orderNo.4......\")\n",
        "print(\"order4:\",order4)\n",
        "print(\"price_of_order4:\",price_of_order4)\n",
        "print(\"discount:\",discount_on_order4)\n",
        "print(\"price:\",price_of_order4_after_dis)\n",
        "\n",
        "\n",
        "\n",
        "order5=input(\"enter order name:\")\n",
        "price_of_order5=int(input(\"enter your price\"))\n",
        "discount_on_order5=int(input(\"enter discount\"))\n",
        "discount_on_order5=price_of_order1*discount_on_order1/100\n",
        "price_of_order5_after_dis=price_of_order5-discount_on_order5\n",
        "print(\".......orderNo5......\")\n",
        "print(\"order1:\",order1)\n",
        "print(\"price_of_order1:\",price_of_order1)\n",
        "print(\"discount:\",discount_on_order1)\n",
        "print(\"price:\",price_of_order1_after_dis)\n",
        "\n",
        "total_payable_bill=price_of_order1+price_of_order2+price_of_order3+price_of_order4+price_of_order5\n",
        "print(\"..............................................\")\n",
        "print(total_bill)\n",
        "\n",
        "\n",
        "\n"
      ],
      "metadata": {
        "id": "WxYQWg2MYRPs",
        "colab": {
          "base_uri": "https://localhost:8080/"
        },
        "outputId": "f799f5dd-6ee2-4dfd-bec3-849f71846b7a"
      },
      "execution_count": null,
      "outputs": [
        {
          "output_type": "stream",
          "name": "stdout",
          "text": [
            "enter order namepizza\n",
            "enter your price500\n",
            "enter discount10\n",
            ".....order1.....\n",
            "order1: pizza\n",
            "price_of_order1: 500\n",
            "discount: 50.0\n",
            "price: 450.0\n",
            "enter order name:burger\n",
            "enter your price400\n",
            "enter discount10\n",
            ".....orderNO.2.....\n",
            "order2: burger\n",
            "price_of_order2: 400\n",
            "discount: 40.0\n",
            "price: 360.0\n",
            "enter order name:noddles\n",
            "enter your price200\n",
            "enter discount10\n",
            "......orderNo3.....\n",
            "order3: noddles\n",
            "price_of_order3: 200\n",
            "discount: 20.0\n",
            "price: 180.0\n",
            "enter order name:coffee\n",
            "enter your price600\n",
            "enter discount10\n",
            ".....orderNo.4......\n",
            "order4: coffee\n",
            "price_of_order4: 600\n",
            "discount: 60.0\n",
            "price: 540.0\n",
            "enter order name:sandwich\n",
            "enter your price500\n",
            "enter discount10\n",
            ".......orderNo5......\n",
            "order1: pizza\n",
            "price_of_order1: 500\n",
            "discount: 50.0\n",
            "price: 450.0\n",
            "..............................................\n",
            "1250\n"
          ]
        }
      ]
    },
    {
      "cell_type": "code",
      "source": [
        "item1= input(\"enter item1                   : \")\n",
        "price_item1= int(input(\"enter price of item1: \"))\n",
        "discount1= int(input(\"enter discount 1      : \"))\n",
        "discount_price1= price_item1*discount1/100\n",
        "final_price1= price_item1-discount_price1\n",
        "print(\"final Price                          :\",final_price1)\n",
        "\n",
        "item2= input(\"enter item2                   : \")\n",
        "price_item2= int(input(\"enter price of item2: \"))\n",
        "discount2= int(input(\"enter discount 2      : \"))\n",
        "discount_price2= price_item2*discount2/100\n",
        "final_price2= price_item2-discount_price2\n",
        "print(\"Final Price                          :\",final_price2)\n",
        "\n",
        "item3=(input(\"enter item3                   :\"))\n",
        "price_item3=int(input(\"enter price of item3 :\"))\n",
        "discount3=int(input(\"enter discunt3         :\"))\n",
        "discount_price3= price_item3*discount3/100\n",
        "final_price3=price_item3-discount_price3\n",
        "print(\"Final Price                         :\",final_price3)\n",
        "\n",
        "total_bill= price_item1+price_item2\n",
        "actual_bill= final_price1 +final_price2\n",
        "print(\"Total bill                          :\",total_bill)\n",
        "print(\"Actual bill                         :\",actual_bill)\n",
        "\n",
        "print(\"........Delivery Address.......\")\n",
        "name=\"Priyanka Rana\"\n",
        "House_No=\" 1514,Sector 18D \"\n",
        "Mobile_No=1234567878\n",
        "Pincode=160018\n",
        "print(\"Name     :\",name)\n",
        "print(\"House No.:\",House_No)\n",
        "print(\"Pincode  :\",Pincode)\n",
        "\n"
      ],
      "metadata": {
        "colab": {
          "base_uri": "https://localhost:8080/"
        },
        "id": "iqa9pCX0moUh",
        "outputId": "4b04b393-5002-4044-f17c-486657303715"
      },
      "execution_count": 8,
      "outputs": [
        {
          "output_type": "stream",
          "name": "stdout",
          "text": [
            "enter item1                   : Badsheet\n",
            "enter price of item1: 500\n",
            "enter discount 1      : 10\n",
            "final Price : 450.0\n",
            "enter item2                   : Curtains\n",
            "enter price of item2: 1000\n",
            "enter discount 2      : 10\n",
            "Final Price : 900.0\n",
            "enter item3                  :Flowerpot\n",
            "enter price of item3:1500\n",
            "enter discunt3        :10\n",
            "Final Price: 1350.0\n",
            "Total bill  : 1500\n",
            "Actual bill : 1350.0\n",
            "........Delivery Address.......\n",
            "Name     : Priyanka Rana\n",
            "House No.:  1514,Sector 18D \n",
            "Pincode  : 160018\n"
          ]
        }
      ]
    }
  ]
}
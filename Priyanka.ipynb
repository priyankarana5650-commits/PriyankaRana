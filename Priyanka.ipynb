{
  "nbformat": 4,
  "nbformat_minor": 0,
  "metadata": {
    "colab": {
      "provenance": [],
      "authorship_tag": "ABX9TyNI44GVPx7J7cekSKQPKabW",
      "include_colab_link": true
    },
    "kernelspec": {
      "name": "python3",
      "display_name": "Python 3"
    },
    "language_info": {
      "name": "python"
    }
  },
  "cells": [
    {
      "cell_type": "markdown",
      "metadata": {
        "id": "view-in-github",
        "colab_type": "text"
      },
      "source": [
        "<a href=\"https://colab.research.google.com/github/priyankarana5650-commits/PriyankaRana/blob/main/Priyanka.ipynb\" target=\"_parent\"><img src=\"https://colab.research.google.com/assets/colab-badge.svg\" alt=\"Open In Colab\"/></a>"
      ]
    },
    {
      "cell_type": "code",
      "execution_count": null,
      "metadata": {
        "id": "SyRYfb4OF3GY"
      },
      "outputs": [],
      "source": []
    },
    {
      "cell_type": "code",
      "source": [
        "first=500\n",
        "second=100\n",
        "sum=first+second\n",
        "sub=first-second\n",
        "multi=first*second\n",
        "divide=first/second\n",
        "print(sum)\n",
        "print(sub)\n",
        "print(multi)\n",
        "print(divide)\n",
        "First_Number=5\n",
        "second_Number=7\n",
        "print(First_Number+second_Number )\n",
        "600\n",
        "400\n",
        "50000\n",
        "5.0\n",
        "12\n",
        "\n",
        "\n",
        "\n"
      ],
      "metadata": {
        "id": "jTfF0zptKzD2"
      },
      "execution_count": null,
      "outputs": []
    },
    {
      "cell_type": "code",
      "source": [
        "\n",
        "item1=\"pizza\"\n",
        "price_of_item1=500\n",
        "item2=\"Burger\"\n",
        "price_of_item2=100\n",
        "item3=\"noddles\"\n",
        "price_of_item3=200\n",
        "item4=\"coffee\"\n",
        "price_of_item4=200\n",
        "item5=\"sandwich\"\n",
        "price_of_item5=300\n",
        "sum=price_of_item1+price_of_item2+price_of_item3+price_of_item4+price_of_item5\n",
        "print(\"........ Reciept..........\")\n",
        "print(\"pizza     :\", price_of_item1)\n",
        "print(\"burger    :\",price_of_item2)\n",
        "print(\"noddles   :\",price_of_item3)\n",
        "print(\"coffee    :\",price_of_item4)\n",
        "print(\"sandwich  :\",price_of_item5)\n",
        "\n",
        "discount=sum*(10/100)\n",
        "print(\"discount=           :\",discount)\n",
        "print(\"total=              :\",sum)\n",
        "print(\"-----------------------\")\n",
        "print(\"total amount to pay=:\",sum-discount)"
      ],
      "metadata": {
        "colab": {
          "base_uri": "https://localhost:8080/"
        },
        "id": "PagYwYxmMytu",
        "outputId": "83d2a79e-0735-4b4b-da75-63405b10e952"
      },
      "execution_count": 42,
      "outputs": [
        {
          "output_type": "stream",
          "name": "stdout",
          "text": [
            "........ Reciept..........\n",
            "pizza     : 500\n",
            "burger    : 100\n",
            "noddles   : 200\n",
            "coffee    : 200\n",
            "sandwich  : 300\n",
            "discount=           : 130.0\n",
            "total=              : 1300\n",
            "-----------------------\n",
            "total amount to pay=: 1170.0\n"
          ]
        }
      ]
    }
  ]
}
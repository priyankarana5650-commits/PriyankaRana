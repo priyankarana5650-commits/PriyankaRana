{
  "nbformat": 4,
  "nbformat_minor": 0,
  "metadata": {
    "colab": {
      "provenance": [],
      "authorship_tag": "ABX9TyOpIKhtd2+cNDR74g3Kmhf5",
      "include_colab_link": true
    },
    "kernelspec": {
      "name": "python3",
      "display_name": "Python 3"
    },
    "language_info": {
      "name": "python"
    }
  },
  "cells": [
    {
      "cell_type": "markdown",
      "metadata": {
        "id": "view-in-github",
        "colab_type": "text"
      },
      "source": [
        "<a href=\"https://colab.research.google.com/github/priyankarana5650-commits/PriyankaRana/blob/main/Priyanka.ipynb\" target=\"_parent\"><img src=\"https://colab.research.google.com/assets/colab-badge.svg\" alt=\"Open In Colab\"/></a>"
      ]
    },
    {
      "cell_type": "code",
      "execution_count": null,
      "metadata": {
        "id": "SyRYfb4OF3GY"
      },
      "outputs": [],
      "source": []
    },
    {
      "cell_type": "code",
      "source": [
        "first=500\n",
        "second=100\n",
        "sum=first+second\n",
        "sub=first-second\n",
        "multi=first*second\n",
        "divide=first/second\n",
        "print(sum)\n",
        "print(sub)\n",
        "print(multi)\n",
        "print(divide)\n",
        "First_Number=5\n",
        "second_Number=7\n",
        "print(First_Number+second_Number )\n",
        "600\n",
        "400\n",
        "50000\n",
        "5.0\n",
        "12\n",
        "\n",
        "\n",
        "\n"
      ],
      "metadata": {
        "id": "jTfF0zptKzD2"
      },
      "execution_count": null,
      "outputs": []
    },
    {
      "cell_type": "code",
      "source": [
        "gender=(input(\"gender=\"))\n",
        "if gender==\"male\":\n",
        "  print(\"sunday,monday,thursday\")\n",
        "else:\n",
        "  print(\"tuesday,wednesday,friday\")\n",
        "\n",
        "\n",
        "\n",
        ""
      ],
      "metadata": {
        "colab": {
          "base_uri": "https://localhost:8080/"
        },
        "id": "g8EqIJQL3onn",
        "outputId": "ba2ab98f-16b8-46b7-9524-834256787536"
      },
      "execution_count": 7,
      "outputs": [
        {
          "output_type": "stream",
          "name": "stdout",
          "text": [
            "gender=female\n",
            "tuesday,wednesday,friday\n"
          ]
        }
      ]
    },
    {
      "cell_type": "code",
      "source": [
        "principle=5000\n",
        "rate=5\n",
        "time=2\n",
        "interest=principle*rate*time/100\n",
        "print(interest)\n",
        "#Simple Interest"
      ],
      "metadata": {
        "colab": {
          "base_uri": "https://localhost:8080/"
        },
        "id": "KP2nY_iO789x",
        "outputId": "314873e3-216f-4d34-a7d2-3b842cf0f9c3"
      },
      "execution_count": 11,
      "outputs": [
        {
          "output_type": "stream",
          "name": "stdout",
          "text": [
            "500.0\n"
          ]
        }
      ]
    },
    {
      "cell_type": "code",
      "source": [
        "principle=int(input(\"entre principle :\"))\n",
        "rate=int(input(\"entre rate           :\"))\n",
        "time=int(input(\"time                 :\"))\n",
        "amount=principle*(pow((1+rate/100),time))\n",
        "CI=amount-principle\n",
        "print(\"compound Interest             :\",CI)\n",
        "print(\"Total amount you have to pay  :\",amount)\n",
        "\n",
        "#compound Interest\n"
      ],
      "metadata": {
        "colab": {
          "base_uri": "https://localhost:8080/"
        },
        "id": "VPd6O8jKp6XA",
        "outputId": "a343e4e9-1eb6-4010-9076-119e02fb7168"
      },
      "execution_count": 9,
      "outputs": [
        {
          "output_type": "stream",
          "name": "stdout",
          "text": [
            "entre principle :5000\n",
            "entre rate           :10\n",
            "time                 :5\n",
            "compound Interest             : 3052.550000000003\n",
            "Total amount you have to pay  : 8052.550000000003\n"
          ]
        }
      ]
    },
    {
      "cell_type": "code",
      "source": [
        "p=int(input(\"enter principal\"))\n",
        "r=int(input(\"enter rate\"))\n",
        "t=int(input(\"enter time\"))\n",
        "a=p*(1+r/100)**t\n",
        "ci=a-p\n",
        "print(\"compound interest\",ci)\n",
        "#compound interest"
      ],
      "metadata": {
        "colab": {
          "base_uri": "https://localhost:8080/"
        },
        "outputId": "3edfb542-8ef7-4fa1-8619-d8c24646fc2f",
        "id": "UN6rI_E3TZK5"
      },
      "execution_count": null,
      "outputs": [
        {
          "output_type": "stream",
          "name": "stdout",
          "text": [
            "enter principal10000\n",
            "enter rate8\n",
            "enter time3\n",
            "compound interest 2597.120000000001\n"
          ]
        }
      ]
    },
    {
      "cell_type": "code",
      "source": [
        "#Q1.principal=6000\n",
        "#rate=10%\n",
        "#time=6 months\n",
        "#convert months to years:\n",
        "#time =6/12=0.5 years\n",
        "\n",
        "principal=int(input(\"enter principal:\"))\n",
        "rate=int(input(\"enter rate:\"))\n",
        "months=int(input(\"enter time in months: \"))\n",
        "time=months/12\n",
        "si=(principal*rate*time)/100\n",
        "print(\"simple interest:\",si)\n",
        "\n",
        "#Q2.P=10000\n",
        "#R=7%\n",
        "#time=2 years 6 months\n",
        "\n",
        "p=int(input(\"enter principal:\"))\n",
        "r=int(input(\"enter rate :\"))\n",
        "years=int(input(\"enter years: \"))\n",
        "months=int(input(\"enter months :\"))\n",
        "t= years+(months/12)\n",
        "si=(p*r*t)/100\n",
        "print(\"Simple interest:\",si)\n",
        "\n",
        "#Q3.personA:\n",
        "#p=5000\n",
        "#r=8%\n",
        "#time=12\n",
        "#personB:\n",
        "#p=7000\n",
        "#r=6%\n",
        "#time=10\n",
        "P1=int(input(\"enter principal for personA:\"))\n",
        "R1=int(input(\"enter rate for personA:\"))\n",
        "months1=int(input(\"enter months for personA\"))\n",
        "\n",
        "P2=int(input(\"enter principal for personB:\"))\n",
        "R2=int(input(\"enter rate for personB:\"))\n",
        "months2=int(input(\"enter months for personB\"))\n",
        "\n",
        "T1=months1/12\n",
        "T2=months2/12\n",
        "SI1=(P1*R1*T1)/100\n",
        "SI2=(P2*R2*T2)/100\n",
        "print(\"personA Interest:\",SI1)\n",
        "print(\"personB Interest:\",SI2)\n",
        "if SI1>SI2:\n",
        "      print(\"personA earned more interest.\")\n",
        "elif SI2>SI1:\n",
        "      print(\"personB earned more interest.\")\n",
        "else:\n",
        "      print(\"Both earned equal interest.\")\n",
        "\n",
        "\n",
        "\n",
        "\n"
      ],
      "metadata": {
        "colab": {
          "base_uri": "https://localhost:8080/"
        },
        "id": "yrbF1SFO5DJe",
        "outputId": "373b647e-3ee0-459c-a7e9-49642520aef3"
      },
      "execution_count": 19,
      "outputs": [
        {
          "output_type": "stream",
          "name": "stdout",
          "text": [
            "enter principal:6000\n",
            "enter rate:10\n",
            "enter time in months: 6\n",
            "simple interest: 300.0\n",
            "enter principal:10000\n",
            "enter rate :7\n",
            "enter years: 2\n",
            "enter months :6\n",
            "Simple interest: 1750.0\n",
            "enter principal for personA:5000\n",
            "enter rate for personA:8\n",
            "enter months for personA12\n",
            "enter principal for personB:7000\n",
            "enter rate for personB:6\n",
            "enter months for personB10\n",
            "personA Interest: 400.0\n",
            "personB Interest: 350.0\n",
            "personA earned more interest.\n"
          ]
        }
      ]
    },
    {
      "cell_type": "code",
      "source": [
        "principle=int(input(\"principle\"))    # simple Interest\n",
        "rate=int(input(\"rate\"))\n",
        "time=int(input(\"time\"))\n",
        "days=int(input(\"days\"))\n",
        "time_in_month= days/30\n",
        "interest=principle*rate*time/100\n",
        "SI=(principle)*(rate)*(time_in_month)/100\n",
        "print(interest)\n",
        "print(SI)\n",
        "print(interest+SI)"
      ],
      "metadata": {
        "colab": {
          "base_uri": "https://localhost:8080/"
        },
        "id": "rkpstb_hAYz-",
        "outputId": "936852df-0192-4af9-85df-bc08179fea07"
      },
      "execution_count": 19,
      "outputs": [
        {
          "output_type": "stream",
          "name": "stdout",
          "text": [
            "principle5000\n",
            "rate10\n",
            "time5\n",
            "days20\n",
            "2500.0\n",
            "333.33333333333326\n",
            "2833.333333333333\n"
          ]
        }
      ]
    },
    {
      "cell_type": "code",
      "source": [
        "Principle=int(input(\"Principle\"))\n",
        "rate=int(input(\"rate\"))\n",
        "time=int(input(\"time\"))\n",
        "SI=(Principle)*(rate)*(time)/100\n",
        "print(SI)\n",
        "print(\"Total amount paid after 1 year:\",SI+Principle)   # Simple Interest"
      ],
      "metadata": {
        "colab": {
          "base_uri": "https://localhost:8080/"
        },
        "id": "WbteIoiCmPUA",
        "outputId": "9750c8b6-67b9-4471-b39e-4dbcd7d9f5d1"
      },
      "execution_count": 7,
      "outputs": [
        {
          "output_type": "stream",
          "name": "stdout",
          "text": [
            "Principle5000\n",
            "rate10\n",
            "time5\n",
            "2500.0\n",
            "Total amount paid after 1 year: 7500.0\n"
          ]
        }
      ]
    },
    {
      "cell_type": "code",
      "source": [
        "\n",
        "item1=\"pizza\"\n",
        "price_of_item1=500\n",
        "item2=\"Burger\"\n",
        "price_of_item2=100\n",
        "item3=\"noddles\"\n",
        "price_of_item3=200\n",
        "item4=\"coffee\"\n",
        "price_of_item4=200\n",
        "item5=\"sandwich\"\n",
        "price_of_item5=300\n",
        "sum=price_of_item1+price_of_item2+price_of_item3+price_of_item4+price_of_item5\n",
        "print(\"........ Reciept..........\")\n",
        "print(\"pizza     :\", price_of_item1)\n",
        "print(\"burger    :\",price_of_item2)\n",
        "print(\"noddles   :\",price_of_item3)\n",
        "print(\"coffee    :\",price_of_item4)\n",
        "print(\"sandwich  :\",price_of_item5)\n",
        "\n",
        "discount=sum*(10/100)\n",
        "print(\"discount=           :\",discount)\n",
        "print(\"total=              :\",sum)\n",
        "print(\"-----------------------\")\n",
        "print(\"total amount to pay=:\",sum-discount)"
      ],
      "metadata": {
        "colab": {
          "base_uri": "https://localhost:8080/"
        },
        "id": "PagYwYxmMytu",
        "outputId": "83d2a79e-0735-4b4b-da75-63405b10e952"
      },
      "execution_count": null,
      "outputs": [
        {
          "output_type": "stream",
          "name": "stdout",
          "text": [
            "........ Reciept..........\n",
            "pizza     : 500\n",
            "burger    : 100\n",
            "noddles   : 200\n",
            "coffee    : 200\n",
            "sandwich  : 300\n",
            "discount=           : 130.0\n",
            "total=              : 1300\n",
            "-----------------------\n",
            "total amount to pay=: 1170.0\n"
          ]
        }
      ]
    },
    {
      "cell_type": "code",
      "source": [
        "item1=\"pizza\"\n",
        "price_of_item1=200\n",
        "item2=\"burger\"\n",
        "price_of_item2=300\n",
        "item3=\"noddles\"\n",
        "price_of_item3=400\n",
        "item4=\"coffee\"\n",
        "price_of_item4=250\n",
        "item5=\"sandwich\"\n",
        "price_of_item5=100\n",
        "print(\"------Bill------\")\n",
        "print(\"pizza    :\",price_of_item1)\n",
        "print(\"burger   :\",price_of_item2)\n",
        "print(\"noddle   :\",price_of_item3)\n",
        "print(\"coffee   :\",price_of_item4)\n",
        "print(\"sandwich :\",price_of_item5)\n",
        "print(\"----------------------------\")\n",
        "item1=\"pizza\"\n",
        "price_of_item1=200\n",
        "discount_percent_on_item1= 10\n",
        "discount_on_item1= price_of_item1*discount_percent_on_item1/100\n",
        "price_of_item1_after_dis= price_of_item1 - discount_on_item1\n",
        "print(\"......After Discount.....\")\n",
        "print(\"Pizza                   :\",price_of_item1_after_dis)\n",
        "item2=\"burger\"\n",
        "price_of_item2=300\n",
        "discount_percent_on_item2=10\n",
        "discount_on_item2=price_of_item2*discount_percent_on_item2/100\n",
        "price_of_item2_after_dis=price_of_item2-discount_on_item2\n",
        "print(\"burger                  :\",price_of_item2_after_dis)\n",
        "item3=\"noddles\"\n",
        "price_of_item3=200\n",
        "discount_percent_on_item3= 10\n",
        "discount_on_item3= price_of_item3*discount_percent_on_item3/100\n",
        "price_of_item3_after_dis= price_of_item3 - discount_on_item3\n",
        "print(\"noddles                 :\",price_of_item3_after_dis)\n",
        "item4=\"coffee\"\n",
        "price_of_item4=200\n",
        "discount_percent_on_item4= 10\n",
        "discount_on_item4= price_of_item4*discount_percent_on_item4/100\n",
        "price_of_item4_after_dis= price_of_item4 - discount_on_item4\n",
        "print(\"coffee                  :\",price_of_item4_after_dis)\n",
        "item5=\"sandwich\"\n",
        "price_of_item5=200\n",
        "discount_percent_on_item5= 10\n",
        "discount_on_item5= price_of_item5*discount_percent_on_item5/100\n",
        "price_of_item5_after_dis= price_of_item5 - discount_on_item5\n",
        "print(\"sandwich                :\",price_of_item5_after_dis)\n",
        "Total_Payable_Amount=price_of_item1_after_dis+price_of_item2_after_dis+price_of_item3_after_dis+price_of_item4_after_dis+price_of_item5_after_dis\n",
        "print(\"Total Payable Amount    :\",Total_Payable_Amount)\n",
        "\n",
        "\n",
        "\n",
        "\n",
        "\n",
        "#delivery Address\n",
        "\n",
        "name=\"PriyankaRana\"\n",
        "address=\"h.no.1234,sector18d\"\n",
        "mobileno=1234567892\n",
        "pincode=160018\n",
        "\n",
        "\n",
        "\n",
        "print(\"......Delivery Address.....\")\n",
        "print(\"name     :\",name)\n",
        "print(\"mobileno.:\",mobileno)\n",
        "print(\"pincode  :\",pincode)\n",
        "\n",
        "\n",
        "\n",
        "\n",
        "\n",
        "\n"
      ],
      "metadata": {
        "colab": {
          "base_uri": "https://localhost:8080/"
        },
        "id": "PVZMA5Cp_GFK",
        "outputId": "daa0f2ae-bfce-47b0-9aba-ecf9a0f2a2f3"
      },
      "execution_count": null,
      "outputs": [
        {
          "output_type": "stream",
          "name": "stdout",
          "text": [
            "------Bill------\n",
            "pizza    : 200\n",
            "burger   : 300\n",
            "noddle   : 400\n",
            "coffee   : 250\n",
            "sandwich : 100\n",
            "----------------------------\n",
            "......After Discount.....\n",
            "Pizza                   : 180.0\n",
            "burger                  : 270.0\n",
            "noddles                 : 180.0\n",
            "coffee                  : 180.0\n",
            "sandwich                : 180.0\n",
            "Total Payable Amount    : 990.0\n",
            "......Delivery Address.....\n",
            "name     : PriyankaRana\n",
            "mobileno.: 1234567892\n",
            "pincode  : 160018\n"
          ]
        }
      ]
    },
    {
      "cell_type": "code",
      "source": [
        "\n",
        "item1=input(\"name of item1\")\n",
        "price_of_item1=int(input(\"enter your price\"))\n",
        "item2=input(\"name of item2\")\n",
        "price_of_item2= int(input(\"enter price of item2\"))\n",
        "total_bill= price_of_item1+price_of_item2\n",
        "print(total_bill)\n",
        "\n",
        "\n"
      ],
      "metadata": {
        "colab": {
          "base_uri": "https://localhost:8080/"
        },
        "id": "Lmj_ZGDvU5K-",
        "outputId": "ba446c85-a6d3-474e-b9b8-7e75b6bb169b"
      },
      "execution_count": null,
      "outputs": [
        {
          "output_type": "stream",
          "name": "stdout",
          "text": [
            "name of item1pizza\n",
            "enter your price300\n",
            "name of item2fries\n",
            "enter price of item2500\n",
            "800\n"
          ]
        }
      ]
    },
    {
      "cell_type": "code",
      "source": [
        "a=int(input(\"entre value of a \"))\n",
        "b=int(input(\"entre vaue of b\"))\n",
        "sum=(a+b)\n",
        "print(\"sum\",sum)\n",
        "multiply=(a*b)\n",
        "divide=(a/b)\n",
        "print(\"multiply\",multiply)\n",
        "print(\"divide\",divide)"
      ],
      "metadata": {
        "colab": {
          "base_uri": "https://localhost:8080/"
        },
        "id": "wenZCsBCYr0X",
        "outputId": "45d237e8-898d-47c3-a175-dbb64edc58f6"
      },
      "execution_count": null,
      "outputs": [
        {
          "output_type": "stream",
          "name": "stdout",
          "text": [
            "entre value of a: 200\n",
            "entre vaue of b:300\n",
            "sum 500\n",
            "multiply 60000\n",
            "divide 0.6666666666666666\n"
          ]
        }
      ]
    },
    {
      "cell_type": "code",
      "source": [
        "order1=input(\"enter order name\")\n",
        "price_of_order1=int(input(\"enter your price\"))\n",
        "discount_on_order1=int(input(\"enter discount\"))\n",
        "discount_on_order1=price_of_order1*discount_on_order1/100\n",
        "price_of_order1_after_dis=price_of_order1-discount_on_order1\n",
        "\n",
        "print(\".....order1.....\")\n",
        "print(\"order1:\",order1)\n",
        "print(\"price_of_order1:\",price_of_order1)\n",
        "print(\"discount:\",discount_on_order1)\n",
        "print(\"price:\",price_of_order1_after_dis)\n",
        "\n",
        "\n",
        "order2=input(\"enter order name:\")\n",
        "price_of_order2=int(input(\"enter your price\"))\n",
        "discount_on_order2=int(input(\"enter discount\"))\n",
        "discount_on_order2=price_of_order2*discount_on_order2/100\n",
        "price_of_order2_after_dis=price_of_order2-discount_on_order2\n",
        "\n",
        "print(\".....orderNO.2.....\")\n",
        "print(\"order2:\",order2)\n",
        "print(\"price_of_order2:\",price_of_order2)\n",
        "print(\"discount:\",discount_on_order2)\n",
        "print(\"price:\",price_of_order2_after_dis)\n",
        "\n",
        "\n",
        "\n",
        "order3=input(\"enter order name:\")\n",
        "price_of_order3=int(input(\"enter your price\"))\n",
        "discount_on_order3=int(input(\"enter discount\"))\n",
        "discount_on_order3=price_of_order3*discount_on_order3/100\n",
        "price_of_order3_after_dis=price_of_order3-discount_on_order3\n",
        "print(\"......orderNo3.....\")\n",
        "print(\"order3:\",order3)\n",
        "print(\"price_of_order3:\",price_of_order3)\n",
        "print(\"discount:\",discount_on_order3)\n",
        "print(\"price:\",price_of_order3_after_dis)\n",
        "\n",
        "\n",
        "\n",
        "order4=input(\"enter order name:\")\n",
        "price_of_order4=int(input(\"enter your price\"))\n",
        "discount_on_order4=int(input(\"enter discount\"))\n",
        "discount_on_order4=price_of_order4*discount_on_order4/100\n",
        "price_of_order4_after_dis=price_of_order4-discount_on_order4\n",
        "print(\".....orderNo.4......\")\n",
        "print(\"order4:\",order4)\n",
        "print(\"price_of_order4:\",price_of_order4)\n",
        "print(\"discount:\",discount_on_order4)\n",
        "print(\"price:\",price_of_order4_after_dis)\n",
        "\n",
        "\n",
        "\n",
        "order5=input(\"enter order name:\")\n",
        "price_of_order5=int(input(\"enter your price\"))\n",
        "discount_on_order5=int(input(\"enter discount\"))\n",
        "discount_on_order5=price_of_order1*discount_on_order1/100\n",
        "price_of_order5_after_dis=price_of_order5-discount_on_order5\n",
        "print(\".......orderNo5......\")\n",
        "print(\"order1:\",order1)\n",
        "print(\"price_of_order1:\",price_of_order1)\n",
        "print(\"discount:\",discount_on_order1)\n",
        "print(\"price:\",price_of_order1_after_dis)\n",
        "\n",
        "total_payable_bill=price_of_order1+price_of_order2+price_of_order3+price_of_order4+price_of_order5\n",
        "print(\"..............................................\")\n",
        "print(total_bill)\n",
        "\n",
        "\n",
        "\n"
      ],
      "metadata": {
        "id": "WxYQWg2MYRPs",
        "colab": {
          "base_uri": "https://localhost:8080/"
        },
        "outputId": "f799f5dd-6ee2-4dfd-bec3-849f71846b7a"
      },
      "execution_count": null,
      "outputs": [
        {
          "output_type": "stream",
          "name": "stdout",
          "text": [
            "enter order namepizza\n",
            "enter your price500\n",
            "enter discount10\n",
            ".....order1.....\n",
            "order1: pizza\n",
            "price_of_order1: 500\n",
            "discount: 50.0\n",
            "price: 450.0\n",
            "enter order name:burger\n",
            "enter your price400\n",
            "enter discount10\n",
            ".....orderNO.2.....\n",
            "order2: burger\n",
            "price_of_order2: 400\n",
            "discount: 40.0\n",
            "price: 360.0\n",
            "enter order name:noddles\n",
            "enter your price200\n",
            "enter discount10\n",
            "......orderNo3.....\n",
            "order3: noddles\n",
            "price_of_order3: 200\n",
            "discount: 20.0\n",
            "price: 180.0\n",
            "enter order name:coffee\n",
            "enter your price600\n",
            "enter discount10\n",
            ".....orderNo.4......\n",
            "order4: coffee\n",
            "price_of_order4: 600\n",
            "discount: 60.0\n",
            "price: 540.0\n",
            "enter order name:sandwich\n",
            "enter your price500\n",
            "enter discount10\n",
            ".......orderNo5......\n",
            "order1: pizza\n",
            "price_of_order1: 500\n",
            "discount: 50.0\n",
            "price: 450.0\n",
            "..............................................\n",
            "1250\n"
          ]
        }
      ]
    },
    {
      "cell_type": "code",
      "source": [
        "item1= input(\"enter item1                   : \")\n",
        "price_item1= int(input(\"enter price of item1: \"))\n",
        "discount1= int(input(\"enter discount 1      : \"))\n",
        "discount_price1= price_item1*discount1/100\n",
        "final_price1= price_item1-discount_price1\n",
        "print(\"final Price                          :\",final_price1)\n",
        "\n",
        "item2= input(\"enter item2                   : \")\n",
        "price_item2= int(input(\"enter price of item2: \"))\n",
        "discount2= int(input(\"enter discount 2      : \"))\n",
        "discount_price2= price_item2*discount2/100\n",
        "final_price2= price_item2-discount_price2\n",
        "print(\"Final Price                          :\",final_price2)\n",
        "\n",
        "item3=(input(\"enter item3                   :\"))\n",
        "price_item3=int(input(\"enter price of item3 :\"))\n",
        "discount3=int(input(\"enter discunt3         :\"))\n",
        "discount_price3= price_item3*discount3/100\n",
        "final_price3=price_item3-discount_price3\n",
        "print(\"Final Price                         :\",final_price3)\n",
        "\n",
        "total_bill= price_item1+price_item2\n",
        "actual_bill= final_price1 +final_price2\n",
        "print(\"Total bill                          :\",total_bill)\n",
        "print(\"Actual bill                         :\",actual_bill)\n",
        "\n",
        "print(\"........Delivery Address.......\")\n",
        "name=\"Priyanka Rana\"\n",
        "House_No=\" 1514,Sector 18D \"\n",
        "Mobile_No=1234567878\n",
        "Pincode=160018\n",
        "print(\"Name     :\",name)\n",
        "print(\"House No.:\",House_No)\n",
        "print(\"Pincode  :\",Pincode)\n",
        "\n"
      ],
      "metadata": {
        "colab": {
          "base_uri": "https://localhost:8080/"
        },
        "id": "iqa9pCX0moUh",
        "outputId": "4b04b393-5002-4044-f17c-486657303715"
      },
      "execution_count": null,
      "outputs": [
        {
          "output_type": "stream",
          "name": "stdout",
          "text": [
            "enter item1                   : Badsheet\n",
            "enter price of item1: 500\n",
            "enter discount 1      : 10\n",
            "final Price : 450.0\n",
            "enter item2                   : Curtains\n",
            "enter price of item2: 1000\n",
            "enter discount 2      : 10\n",
            "Final Price : 900.0\n",
            "enter item3                  :Flowerpot\n",
            "enter price of item3:1500\n",
            "enter discunt3        :10\n",
            "Final Price: 1350.0\n",
            "Total bill  : 1500\n",
            "Actual bill : 1350.0\n",
            "........Delivery Address.......\n",
            "Name     : Priyanka Rana\n",
            "House No.:  1514,Sector 18D \n",
            "Pincode  : 160018\n"
          ]
        }
      ]
    }
  ]
}